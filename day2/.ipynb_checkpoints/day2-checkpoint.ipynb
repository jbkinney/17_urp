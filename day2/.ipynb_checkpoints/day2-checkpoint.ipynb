{
 "cells": [
  {
   "cell_type": "markdown",
   "metadata": {},
   "source": [
    "# Day 2: Introduction to Python 2.7 and the IPython Notebook\n",
    "\n",
    "### by Justin B. Kinney"
   ]
  },
  {
   "cell_type": "markdown",
   "metadata": {},
   "source": [
    "In today's tutorial, we cover **strings, lists, dictionaries, conditionals, loops, and functions.**"
   ]
  },
  {
   "cell_type": "markdown",
   "metadata": {},
   "source": [
    "As always, we start with..."
   ]
  },
  {
   "cell_type": "code",
   "execution_count": null,
   "metadata": {
    "collapsed": false
   },
   "outputs": [],
   "source": [
    "# Always put this first\n",
    "%matplotlib inline\n",
    "from __future__ import division\n",
    "import numpy as np\n",
    "import pandas as pd\n",
    "import matplotlib.pyplot as plt\n",
    "\n",
    "# A funciton I'm defining\n",
    "def explain(title):\n",
    "    print \"\\n-> %s <-\"%title"
   ]
  },
  {
   "cell_type": "markdown",
   "metadata": {},
   "source": [
    "## Strings"
   ]
  },
  {
   "cell_type": "markdown",
   "metadata": {},
   "source": [
    "Python makes working with strings very easy, especially when compared to C, C++, or Matlab. "
   ]
  },
  {
   "cell_type": "code",
   "execution_count": null,
   "metadata": {
    "collapsed": false
   },
   "outputs": [],
   "source": [
    "a = \"foo\"           # Specify a string with single quotes \n",
    "b = 'bar'           # Or double quotes\n",
    "c = \"\"\"\n",
    "foo \n",
    "bar \n",
    "baz\"\"\"                 # Or using triple quotes\n",
    "\n",
    "explain(\"Concatenate strings using the + sign\")\n",
    "print a + b + c    \n",
    "\n",
    "explain(\"Concatenate multiple copies of a string using the * sign\")\n",
    "print a*5          \n",
    "\n",
    "explain(\"Compare whether two strings are equal\")\n",
    "print a == b\n",
    "\n",
    "explain(\"Test if one string contains another\")\n",
    "print b in c        "
   ]
  },
  {
   "cell_type": "markdown",
   "metadata": {},
   "source": [
    "Indexing allows one to extract different characters from the string"
   ]
  },
  {
   "cell_type": "code",
   "execution_count": null,
   "metadata": {
    "collapsed": false
   },
   "outputs": [],
   "source": [
    "s = 'Justin'\n",
    "\n",
    "explain(\"To compute the lenght of a string, use the 'len()' function\")\n",
    "print len(s)        \n",
    "\n",
    "explain(\"First character corresonds to index 0\")\n",
    "print s[0]\n",
    "\n",
    "explain(\"Last character corresponds to the len(s)\")\n",
    "print s[5]\n",
    "\n",
    "explain(\"Last character can also be accessed with index -1\")\n",
    "print s[-1]    "
   ]
  },
  {
   "cell_type": "code",
   "execution_count": null,
   "metadata": {
    "collapsed": false
   },
   "outputs": [],
   "source": [
    "s = '/Users/jkinney/github/16_urp/day2/day2.ipynb'\n",
    "s.split('/')[-1]"
   ]
  },
  {
   "cell_type": "markdown",
   "metadata": {},
   "source": [
    "The colon allows us to \"slice\" a string"
   ]
  },
  {
   "cell_type": "code",
   "execution_count": null,
   "metadata": {
    "collapsed": false
   },
   "outputs": [],
   "source": [
    "s = 'Justin'\n",
    "\n",
    "explain(\"Return a list containing characters 1,2,3,4\")\n",
    "print s[1:5] \n",
    "\n",
    "explain(\"Show the last two characters\")\n",
    "print s[-2:] \n",
    "\n",
    "explain(\"Show every other charcter\")\n",
    "print s[::2] \n",
    "\n",
    "explain(\"Show every other charcter starting with character 1\")\n",
    "print s[1::2] \n",
    "\n",
    "explain(\"Reverse the string\")\n",
    "print s[::-1]"
   ]
  },
  {
   "cell_type": "markdown",
   "metadata": {},
   "source": [
    "One can convert numbers into strings and strings into numbers"
   ]
  },
  {
   "cell_type": "code",
   "execution_count": null,
   "metadata": {
    "collapsed": false
   },
   "outputs": [],
   "source": [
    "explain(\"Turn numbers into a string\")\n",
    "print str(5) == \"5\"\n",
    "print str(4.5) == \"4.5\"\n",
    "print str(True) == \"True\"\n",
    "\n",
    "explain(\"Turn anything, in fact, into a function into a string\")\n",
    "print str(explain)\n",
    "print str(np)\n",
    "\n",
    "explain(\"Turn strings into numbers\")\n",
    "print int(\"5\") == 5\n",
    "print float(\"4.5\") == 4.5"
   ]
  },
  {
   "cell_type": "markdown",
   "metadata": {},
   "source": [
    "'String formatting' allows strings to be built up from numbers, other strings, etc. More information is available here: https://docs.python.org/2/library/string.html"
   ]
  },
  {
   "cell_type": "code",
   "execution_count": null,
   "metadata": {
    "collapsed": false
   },
   "outputs": [],
   "source": [
    "s = \"\"\"\n",
    "An int: %d\n",
    "A float: %f\n",
    "A shorter float: %.2f\n",
    "A float in exponential notation: %e\n",
    "A string %s\n",
    "\"\"\"%(5,np.pi,np.pi,np.pi,'Justin')\n",
    "print s\n",
    "\n",
    "explain(\"Make string uppercase\")\n",
    "print s.upper()"
   ]
  },
  {
   "cell_type": "markdown",
   "metadata": {},
   "source": [
    "## Lists"
   ]
  },
  {
   "cell_type": "markdown",
   "metadata": {},
   "source": [
    "Lists are arrays of python objects, kept in a well-defined order. The elements in a list can be of all different types. The elements of a list are accessed by brackets"
   ]
  },
  {
   "cell_type": "code",
   "execution_count": null,
   "metadata": {
    "collapsed": false
   },
   "outputs": [],
   "source": [
    "# Defining lists\n",
    "\n",
    "explain(\"Define a list using brackets and commas\")\n",
    "v = [1, 'hi', [True,False], 57.3]\n",
    "print v\n",
    "print type(v)\n",
    "\n",
    "explain(\"Lists can be defined over multiple lines\")\n",
    "v = [\n",
    "    1, \n",
    "    'hi', \n",
    "    [True,False], \n",
    "    57.3\n",
    "]\n",
    "print v"
   ]
  },
  {
   "cell_type": "code",
   "execution_count": null,
   "metadata": {
    "collapsed": false
   },
   "outputs": [],
   "source": [
    "# Indexing lists\n",
    "v = [1, 'hi', [True,False], 57.3]\n",
    "\n",
    "explain(\"Again, the first element is numbered 0\")\n",
    "print v[0]     \n",
    "\n",
    "explain(\"Last element is also numbered -1\")\n",
    "print v[-1]   \n",
    "\n",
    "explain(\"Slicing can be used as with strings\")\n",
    "print v[:2]    \n",
    "print v[-2:]  \n",
    "print v[::2]  \n",
    "print v[::-1] \n",
    "\n",
    "explain(\"Use 'in' to test whether an element is in a list\")\n",
    "print 'hi' in v\n",
    "\n",
    "explain(\"Change an element of v\")\n",
    "v[0] = 42\n",
    "print v\n",
    "\n",
    "explain(\"Append an element to the end of v\")\n",
    "v.append('x')\n",
    "print v\n",
    "\n",
    "explain(\"Insert an element in v\")\n",
    "v.insert(2,'y')\n",
    "print v\n",
    "\n",
    "explain(\"Extend v by pasting a second list to the end.\")\n",
    "v.extend([0,1,2])\n",
    "print v\n",
    "\n",
    "explain(\"Delete an element of v\")\n",
    "del v[1]\n",
    "print v"
   ]
  },
  {
   "cell_type": "code",
   "execution_count": null,
   "metadata": {
    "collapsed": false
   },
   "outputs": [],
   "source": [
    "# If you try to access a key that doesn't exist, you get an error\n",
    "v[10]"
   ]
  },
  {
   "cell_type": "code",
   "execution_count": null,
   "metadata": {
    "collapsed": false
   },
   "outputs": [],
   "source": [
    "# If you pass a non-integer you get an error\n",
    "v[4.0]"
   ]
  },
  {
   "cell_type": "code",
   "execution_count": null,
   "metadata": {
    "collapsed": false
   },
   "outputs": [],
   "source": [
    "# Use a list to make and break strings\n",
    "d = [\"foo\",\"bar\",\"baz\"]         \n",
    "\n",
    "explain(\"Join multiple strings together, separating them with a specified character\")\n",
    "c = ' '.join(d)\n",
    "print c\n",
    "\n",
    "explain(\"Split a string into component strings based on white space\")\n",
    "c = \"foo  bar     baz\"\n",
    "print c.split()"
   ]
  },
  {
   "cell_type": "code",
   "execution_count": null,
   "metadata": {
    "collapsed": false
   },
   "outputs": [],
   "source": [
    "# Lists can be sorted\n",
    "explain(\"Sort a list of numbers\")\n",
    "v = [4,5,7,1,3,1,3,4,5,6,7,0]\n",
    "v.sort()\n",
    "print v\n",
    "\n",
    "explain(\"Sort a list of characters\")\n",
    "s = 'Cold Spring Harbor Laboratory'\n",
    "v = list(s)\n",
    "v.sort(reverse=True)\n",
    "print v"
   ]
  },
  {
   "cell_type": "code",
   "execution_count": null,
   "metadata": {
    "collapsed": false
   },
   "outputs": [],
   "source": [
    "print v"
   ]
  },
  {
   "cell_type": "code",
   "execution_count": null,
   "metadata": {
    "collapsed": false
   },
   "outputs": [],
   "source": [
    "# Other list-like objects are \"sets\" and \"tuples\". \n",
    "explain(\"Sets have unique elements in no particular order\")\n",
    "print set(v)\n",
    "\n",
    "y = {7, 6, 7, 5}\n",
    "print y\n",
    "\n",
    "explain(\"Tuples are like lists but there elements cannot be modified once created\")\n",
    "t = tuple(v)\n",
    "print t"
   ]
  },
  {
   "cell_type": "code",
   "execution_count": null,
   "metadata": {
    "collapsed": false
   },
   "outputs": [],
   "source": [
    "t[4] = 'x'"
   ]
  },
  {
   "cell_type": "markdown",
   "metadata": {},
   "source": [
    "## Dictionaries"
   ]
  },
  {
   "cell_type": "markdown",
   "metadata": {},
   "source": [
    "Dictionaries are one of Python's most useful datatypes. They can be thought of as a list of key-value pairs, which can easily be looked up via the key (which can be anything)"
   ]
  },
  {
   "cell_type": "code",
   "execution_count": null,
   "metadata": {
    "collapsed": false
   },
   "outputs": [],
   "source": [
    "# Dictionaries are defined using brackets, colons, and commas\n",
    "explain(\"Define a dictionary\")\n",
    "d = {'A':'Justin', 5:'Python', 'B':2}\n",
    "print d\n",
    "print type(d)\n",
    "\n",
    "explain(\"Dictionaries can be defined over multiple lines\")\n",
    "d = {\n",
    "    'A':'Justin', \n",
    "    5:'Python',\n",
    "    'B':2\n",
    "}\n",
    "print d"
   ]
  },
  {
   "cell_type": "code",
   "execution_count": null,
   "metadata": {
    "collapsed": false
   },
   "outputs": [],
   "source": [
    "# Dictionary elements are using by \"keys\"\n",
    "d = {'A':'Justin', 5:'Python', 'B':2}\n",
    "\n",
    "explain(\"Access elements\")\n",
    "print d['A']\n",
    "print d[5]\n",
    "\n",
    "explain(\"Add an element to the dictionary\")\n",
    "d['foo'] = 'bar'\n",
    "print d\n",
    "\n",
    "explain(\"Remove an element from the dictionary\")\n",
    "del d['B']\n",
    "print d\n",
    "\n",
    "explain(\"Get list of dictionary keys\")\n",
    "print d.keys()\n",
    "\n",
    "explain(\"Get list of dictionary values\")\n",
    "print d.values()"
   ]
  },
  {
   "cell_type": "code",
   "execution_count": null,
   "metadata": {
    "collapsed": false
   },
   "outputs": [],
   "source": [
    "#If you try to use a key that doesn't exist, you get an error\n",
    "d = {'A': 'Justin', 'B': 2, 5: 'Python'}\n",
    "d['C']"
   ]
  },
  {
   "cell_type": "code",
   "execution_count": null,
   "metadata": {
    "collapsed": false
   },
   "outputs": [],
   "source": [
    "# It is sometimes useful to get a default value instead of an error when a key doesn't exist\n",
    "print d.get('A',0)    # 0 is the default value\n",
    "print d.get('C',0)    # 0 is the default value"
   ]
  }
 ],
 "metadata": {
  "kernelspec": {
   "display_name": "Python 2",
   "language": "python",
   "name": "python2"
  },
  "language_info": {
   "codemirror_mode": {
    "name": "ipython",
    "version": 2
   },
   "file_extension": ".py",
   "mimetype": "text/x-python",
   "name": "python",
   "nbconvert_exporter": "python",
   "pygments_lexer": "ipython2",
   "version": "2.7.11"
  }
 },
 "nbformat": 4,
 "nbformat_minor": 0
}
