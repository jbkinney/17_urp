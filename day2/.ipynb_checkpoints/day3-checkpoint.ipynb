{
 "cells": [
  {
   "cell_type": "markdown",
   "metadata": {},
   "source": [
    "# Day 3: Introduction to Python 2.7 and the IPython Notebook\n",
    "\n",
    "### by Justin B. Kinney"
   ]
  },
  {
   "cell_type": "markdown",
   "metadata": {},
   "source": [
    "In today's tutorial, we cover **strings, lists, dictionaries, conditionals, loops, and functions.**"
   ]
  },
  {
   "cell_type": "markdown",
   "metadata": {},
   "source": [
    "As always, we start with..."
   ]
  },
  {
   "cell_type": "code",
   "execution_count": 1,
   "metadata": {
    "collapsed": false
   },
   "outputs": [],
   "source": [
    "# Always put this first\n",
    "%matplotlib inline\n",
    "from __future__ import division\n",
    "import numpy as np\n",
    "import pandas as pd\n",
    "import matplotlib.pyplot as plt\n",
    "\n",
    "# A funciton I'm defining\n",
    "def explain(title):\n",
    "    print \"\\n-> %s <-\"%title"
   ]
  },
  {
   "cell_type": "markdown",
   "metadata": {},
   "source": [
    "## Strings"
   ]
  },
  {
   "cell_type": "markdown",
   "metadata": {},
   "source": [
    "Python makes working with strings very easy, especially when compared to C, C++, or Matlab. "
   ]
  },
  {
   "cell_type": "code",
   "execution_count": 2,
   "metadata": {
    "collapsed": false
   },
   "outputs": [
    {
     "name": "stdout",
     "output_type": "stream",
     "text": [
      "\n",
      "-> Concatenate strings using the + sign <-\n",
      "foobar\n",
      "foo \n",
      "bar \n",
      "baz\n",
      "\n",
      "-> Concatenate multiple copies of a string using the * sign <-\n",
      "foofoofoofoofoo\n",
      "\n",
      "-> Compare whether two strings are equal <-\n",
      "False\n",
      "\n",
      "-> Test if one string contains another <-\n",
      "True\n"
     ]
    }
   ],
   "source": [
    "a = \"foo\"           # Specify a string with single quotes \n",
    "b = 'bar'           # Or double quotes\n",
    "c = \"\"\"\n",
    "foo \n",
    "bar \n",
    "baz\"\"\"                 # Or using triple quotes\n",
    "\n",
    "explain(\"Concatenate strings using the + sign\")\n",
    "print a + b + c    \n",
    "\n",
    "explain(\"Concatenate multiple copies of a string using the * sign\")\n",
    "print a*5          \n",
    "\n",
    "explain(\"Compare whether two strings are equal\")\n",
    "print a == b\n",
    "\n",
    "explain(\"Test if one string contains another\")\n",
    "print b in c        "
   ]
  },
  {
   "cell_type": "markdown",
   "metadata": {},
   "source": [
    "Indexing allows one to extract different characters from the string"
   ]
  },
  {
   "cell_type": "code",
   "execution_count": 3,
   "metadata": {
    "collapsed": false
   },
   "outputs": [
    {
     "name": "stdout",
     "output_type": "stream",
     "text": [
      "\n",
      "-> To compute the lenght of a string, use the 'len()' function <-\n",
      "6\n",
      "\n",
      "-> Show the entire string <-\n",
      "Justin\n",
      "\n",
      "-> First character corresonds to index 0 <-\n",
      "J\n",
      "\n",
      "-> Last character corresponds to the len(s) <-\n",
      "n\n",
      "\n",
      "-> Last character can also be accessed with index -1 <-\n",
      "n\n"
     ]
    }
   ],
   "source": [
    "s = 'Justin'\n",
    "\n",
    "explain(\"To compute the lenght of a string, use the 'len()' function\")\n",
    "print len(s)        \n",
    "\n",
    "explain(\"First character corresonds to index 0\")\n",
    "print s[0]\n",
    "\n",
    "explain(\"Last character corresponds to the len(s)\")\n",
    "print s[5]\n",
    "\n",
    "explain(\"Last character can also be accessed with index -1\")\n",
    "print s[-1]    "
   ]
  },
  {
   "cell_type": "code",
   "execution_count": 8,
   "metadata": {
    "collapsed": false
   },
   "outputs": [
    {
     "data": {
      "text/plain": [
       "'day2.ipynb'"
      ]
     },
     "execution_count": 8,
     "metadata": {},
     "output_type": "execute_result"
    }
   ],
   "source": [
    "s = '/Users/jkinney/github/16_urp/day2/day2.ipynb'\n",
    "s.split('/')[-1]"
   ]
  },
  {
   "cell_type": "markdown",
   "metadata": {},
   "source": [
    "The colon allows us to \"slice\" a string"
   ]
  },
  {
   "cell_type": "code",
   "execution_count": 10,
   "metadata": {
    "collapsed": false
   },
   "outputs": [
    {
     "name": "stdout",
     "output_type": "stream",
     "text": [
      "\n",
      "-> Return a list containing characters 1,2,3,4 <-\n",
      "usti\n",
      "\n",
      "-> Show the last two characters <-\n",
      "in\n",
      "\n",
      "-> Show every other charcter <-\n",
      "Jsi\n",
      "\n",
      "-> Show every other charcter starting with character 1 <-\n",
      "utn\n",
      "\n",
      "-> Reverse the string <-\n",
      "nitsuJ\n"
     ]
    }
   ],
   "source": [
    "s = 'Justin'\n",
    "\n",
    "explain(\"Return a list containing characters 1,2,3,4\")\n",
    "print s[1:5] \n",
    "\n",
    "explain(\"Show the last two characters\")\n",
    "print s[-2:] \n",
    "\n",
    "explain(\"Show every other charcter\")\n",
    "print s[::2] \n",
    "\n",
    "explain(\"Show every other charcter starting with character 1\")\n",
    "print s[1::2] \n",
    "\n",
    "explain(\"Reverse the string\")\n",
    "print s[::-1]"
   ]
  },
  {
   "cell_type": "markdown",
   "metadata": {},
   "source": [
    "One can convert numbers into strings and strings into numbers"
   ]
  },
  {
   "cell_type": "code",
   "execution_count": 15,
   "metadata": {
    "collapsed": false
   },
   "outputs": [
    {
     "name": "stdout",
     "output_type": "stream",
     "text": [
      "\n",
      "-> Turn numbers into a string <-\n",
      "True\n",
      "True\n",
      "True\n",
      "\n",
      "-> Turn anything, in fact, into a function into a string <-\n",
      "<function explain at 0x109fd7c08>\n",
      "<module 'numpy' from '/Users/jkinney/anaconda/lib/python2.7/site-packages/numpy/__init__.pyc'>\n",
      "\n",
      "-> Turn strings into numbers <-\n",
      "True\n",
      "True\n"
     ]
    }
   ],
   "source": [
    "explain(\"Turn numbers into a string\")\n",
    "print str(5) == \"5\"\n",
    "print str(4.5) == \"4.5\"\n",
    "print str(True) == \"True\"\n",
    "\n",
    "explain(\"Turn anything, in fact, into a function into a string\")\n",
    "print str(explain)\n",
    "print str(np)\n",
    "\n",
    "explain(\"Turn strings into numbers\")\n",
    "print int(\"5\") == 5\n",
    "print float(\"4.5\") == 4.5"
   ]
  },
  {
   "cell_type": "markdown",
   "metadata": {},
   "source": [
    "'String formatting' allows strings to be built up from numbers, other strings, etc. More information is available here: https://docs.python.org/2/library/string.html"
   ]
  },
  {
   "cell_type": "code",
   "execution_count": 20,
   "metadata": {
    "collapsed": false
   },
   "outputs": [
    {
     "name": "stdout",
     "output_type": "stream",
     "text": [
      "\n",
      "An int: 5\n",
      "A float: 3.141593\n",
      "A shorter float: 3.14\n",
      "A float in exponential notation: 3.141593e+00\n",
      "A string Justin\n",
      "\n",
      "\n",
      "-> Make string uppercase <-\n",
      "\n",
      "AN INT: 5\n",
      "A FLOAT: 3.141593\n",
      "A SHORTER FLOAT: 3.14\n",
      "A FLOAT IN EXPONENTIAL NOTATION: 3.141593E+00\n",
      "A STRING JUSTIN\n",
      "\n"
     ]
    }
   ],
   "source": [
    "s = \"\"\"\n",
    "An int: %d\n",
    "A float: %f\n",
    "A shorter float: %.2f\n",
    "A float in exponential notation: %e\n",
    "A string %s\n",
    "\"\"\"%(5,np.pi,np.pi,np.pi,'Justin')\n",
    "print s\n",
    "\n",
    "explain(\"Make string uppercase\")\n",
    "print s.upper()"
   ]
  },
  {
   "cell_type": "markdown",
   "metadata": {},
   "source": [
    "## Lists"
   ]
  },
  {
   "cell_type": "markdown",
   "metadata": {},
   "source": [
    "Lists are arrays of python objects, kept in a well-defined order. The elements in a list can be of all different types. The elements of a list are accessed by brackets"
   ]
  },
  {
   "cell_type": "code",
   "execution_count": 23,
   "metadata": {
    "collapsed": false
   },
   "outputs": [
    {
     "name": "stdout",
     "output_type": "stream",
     "text": [
      "\n",
      "-> Define a list using brackets and commas <-\n",
      "[1, 'hi', [True, False], 57.3]\n",
      "<type 'list'>\n",
      "\n",
      "-> Lists can be defined over multiple lines <-\n",
      "[1, 'hi', [True, False], 57.3]\n"
     ]
    }
   ],
   "source": [
    "# Defining lists\n",
    "\n",
    "explain(\"Define a list using brackets and commas\")\n",
    "v = [1, 'hi', [True,False], 57.3]\n",
    "print v\n",
    "print type(v)\n",
    "\n",
    "explain(\"Lists can be defined over multiple lines\")\n",
    "v = [\n",
    "    1, \n",
    "    'hi', \n",
    "    [True,False], \n",
    "    57.3\n",
    "]\n",
    "print v"
   ]
  },
  {
   "cell_type": "code",
   "execution_count": 25,
   "metadata": {
    "collapsed": false
   },
   "outputs": [
    {
     "name": "stdout",
     "output_type": "stream",
     "text": [
      "\n",
      "-> Again, the first element is numbered 0 <-\n",
      "1\n",
      "\n",
      "-> Last element is also numbered -1 <-\n",
      "57.3\n",
      "\n",
      "-> Slicing can be used as with strings <-\n",
      "[1, 'hi']\n",
      "[[True, False], 57.3]\n",
      "[1, [True, False]]\n",
      "[57.3, [True, False], 'hi', 1]\n",
      "\n",
      "-> Use 'in' to test whether an element is in a list <-\n",
      "True\n",
      "\n",
      "-> Change an element of v <-\n",
      "[42, 'hi', [True, False], 57.3]\n",
      "\n",
      "-> Append an element to the end of v <-\n",
      "[42, 'hi', [True, False], 57.3, 'x']\n",
      "\n",
      "-> Insert an element in v <-\n",
      "[42, 'hi', 'y', [True, False], 57.3, 'x']\n",
      "\n",
      "-> Extend v by pasting a second list to the end. <-\n",
      "[42, 'hi', 'y', [True, False], 57.3, 'x', 0, 1, 2]\n",
      "\n",
      "-> Delete an element of v <-\n",
      "[42, 'y', [True, False], 57.3, 'x', 0, 1, 2]\n"
     ]
    }
   ],
   "source": [
    "# Indexing lists\n",
    "v = [1, 'hi', [True,False], 57.3]\n",
    "\n",
    "explain(\"Again, the first element is numbered 0\")\n",
    "print v[0]     \n",
    "\n",
    "explain(\"Last element is also numbered -1\")\n",
    "print v[-1]   \n",
    "\n",
    "explain(\"Slicing can be used as with strings\")\n",
    "print v[:2]    \n",
    "print v[-2:]  \n",
    "print v[::2]  \n",
    "print v[::-1] \n",
    "\n",
    "explain(\"Use 'in' to test whether an element is in a list\")\n",
    "print 'hi' in v\n",
    "\n",
    "explain(\"Change an element of v\")\n",
    "v[0] = 42\n",
    "print v\n",
    "\n",
    "explain(\"Append an element to the end of v\")\n",
    "v.append('x')\n",
    "print v\n",
    "\n",
    "explain(\"Insert an element in v\")\n",
    "v.insert(2,'y')\n",
    "print v\n",
    "\n",
    "explain(\"Extend v by pasting a second list to the end.\")\n",
    "v.extend([0,1,2])\n",
    "print v\n",
    "\n",
    "explain(\"Delete an element of v\")\n",
    "del v[1]\n",
    "print v"
   ]
  },
  {
   "cell_type": "code",
   "execution_count": 26,
   "metadata": {
    "collapsed": false
   },
   "outputs": [
    {
     "ename": "IndexError",
     "evalue": "list index out of range",
     "output_type": "error",
     "traceback": [
      "\u001b[0;31m---------------------------------------------------------------------------\u001b[0m",
      "\u001b[0;31mIndexError\u001b[0m                                Traceback (most recent call last)",
      "\u001b[0;32m<ipython-input-26-042d597998fe>\u001b[0m in \u001b[0;36m<module>\u001b[0;34m()\u001b[0m\n\u001b[1;32m      1\u001b[0m \u001b[0;31m# If you try to access a key that doesn't exist, you get an error\u001b[0m\u001b[0;34m\u001b[0m\u001b[0;34m\u001b[0m\u001b[0m\n\u001b[0;32m----> 2\u001b[0;31m \u001b[0mv\u001b[0m\u001b[0;34m[\u001b[0m\u001b[0;36m10\u001b[0m\u001b[0;34m]\u001b[0m\u001b[0;34m\u001b[0m\u001b[0m\n\u001b[0m",
      "\u001b[0;31mIndexError\u001b[0m: list index out of range"
     ]
    }
   ],
   "source": [
    "# If you try to access a key that doesn't exist, you get an error\n",
    "v[10]"
   ]
  },
  {
   "cell_type": "code",
   "execution_count": 29,
   "metadata": {
    "collapsed": false
   },
   "outputs": [
    {
     "ename": "TypeError",
     "evalue": "list indices must be integers, not float",
     "output_type": "error",
     "traceback": [
      "\u001b[0;31m---------------------------------------------------------------------------\u001b[0m",
      "\u001b[0;31mTypeError\u001b[0m                                 Traceback (most recent call last)",
      "\u001b[0;32m<ipython-input-29-acccb94864c9>\u001b[0m in \u001b[0;36m<module>\u001b[0;34m()\u001b[0m\n\u001b[1;32m      1\u001b[0m \u001b[0;31m# If you pass a non-integer you get an error\u001b[0m\u001b[0;34m\u001b[0m\u001b[0;34m\u001b[0m\u001b[0m\n\u001b[0;32m----> 2\u001b[0;31m \u001b[0mv\u001b[0m\u001b[0;34m[\u001b[0m\u001b[0;36m4.0\u001b[0m\u001b[0;34m]\u001b[0m\u001b[0;34m\u001b[0m\u001b[0m\n\u001b[0m",
      "\u001b[0;31mTypeError\u001b[0m: list indices must be integers, not float"
     ]
    }
   ],
   "source": [
    "# If you pass a non-integer you get an error\n",
    "v[4.0]"
   ]
  },
  {
   "cell_type": "code",
   "execution_count": 31,
   "metadata": {
    "collapsed": false
   },
   "outputs": [
    {
     "name": "stdout",
     "output_type": "stream",
     "text": [
      "\n",
      "-> Join multiple strings together, separating them with a specified character <-\n",
      "foo bar baz\n",
      "\n",
      "-> Split a string into component strings based on white space <-\n",
      "['foo', 'bar', 'baz']\n"
     ]
    }
   ],
   "source": [
    "# Use a list to make and break strings\n",
    "d = [\"foo\",\"bar\",\"baz\"]         \n",
    "\n",
    "explain(\"Join multiple strings together, separating them with a specified character\")\n",
    "c = ' '.join(d)\n",
    "print c\n",
    "\n",
    "explain(\"Split a string into component strings based on white space\")\n",
    "c = \"foo  bar     baz\"\n",
    "print c.split()"
   ]
  },
  {
   "cell_type": "code",
   "execution_count": 34,
   "metadata": {
    "collapsed": false
   },
   "outputs": [
    {
     "name": "stdout",
     "output_type": "stream",
     "text": [
      "\n",
      "-> Sort a list of numbers <-\n",
      "[0, 1, 1, 3, 3, 4, 4, 5, 5, 6, 7, 7]\n",
      "\n",
      "-> Sort a list of characters <-\n",
      "['y', 't', 'r', 'r', 'r', 'r', 'r', 'p', 'o', 'o', 'o', 'o', 'n', 'l', 'i', 'g', 'd', 'b', 'b', 'a', 'a', 'a', 'S', 'L', 'H', 'C', ' ', ' ', ' ']\n"
     ]
    }
   ],
   "source": [
    "# Lists can be sorted\n",
    "explain(\"Sort a list of numbers\")\n",
    "v = [4,5,7,1,3,1,3,4,5,6,7,0]\n",
    "v.sort()\n",
    "print v\n",
    "\n",
    "explain(\"Sort a list of characters\")\n",
    "s = 'Cold Spring Harbor Laboratory'\n",
    "v = list(s)\n",
    "v.sort(reverse=True)\n",
    "print v"
   ]
  },
  {
   "cell_type": "code",
   "execution_count": 37,
   "metadata": {
    "collapsed": false
   },
   "outputs": [
    {
     "name": "stdout",
     "output_type": "stream",
     "text": [
      "['y', 't', 'r', 'r', 'r', 'r', 'r', 'p', 'o', 'o', 'o', 'o', 'n', 'l', 'i', 'g', 'd', 'b', 'b', 'a', 'a', 'a', 'S', 'L', 'H', 'C', ' ', ' ', ' ']\n"
     ]
    }
   ],
   "source": [
    "print v"
   ]
  },
  {
   "cell_type": "code",
   "execution_count": 41,
   "metadata": {
    "collapsed": false
   },
   "outputs": [
    {
     "name": "stdout",
     "output_type": "stream",
     "text": [
      "\n",
      "-> Sets have unique elements in no particular order <-\n",
      "set(['a', ' ', 'C', 'b', 'd', 'g', 'i', 'H', 'l', 'o', 'n', 'p', 'S', 'r', 't', 'y', 'L'])\n",
      "set([5, 6, 7])\n",
      "\n",
      "-> Tuples are like lists but there elements cannot be modified once created <-\n",
      "('y', 't', 'r', 'r', 'r', 'r', 'r', 'p', 'o', 'o', 'o', 'o', 'n', 'l', 'i', 'g', 'd', 'b', 'b', 'a', 'a', 'a', 'S', 'L', 'H', 'C', ' ', ' ', ' ')\n"
     ]
    }
   ],
   "source": [
    "# Other list-like objects are \"sets\" and \"tuples\". \n",
    "explain(\"Sets have unique elements in no particular order\")\n",
    "print set(v)\n",
    "\n",
    "y = {7, 6, 7, 5}\n",
    "print y\n",
    "\n",
    "explain(\"Tuples are like lists but there elements cannot be modified once created\")\n",
    "t = tuple(v)\n",
    "print t"
   ]
  },
  {
   "cell_type": "code",
   "execution_count": 42,
   "metadata": {
    "collapsed": false
   },
   "outputs": [
    {
     "ename": "TypeError",
     "evalue": "'tuple' object does not support item assignment",
     "output_type": "error",
     "traceback": [
      "\u001b[0;31m---------------------------------------------------------------------------\u001b[0m",
      "\u001b[0;31mTypeError\u001b[0m                                 Traceback (most recent call last)",
      "\u001b[0;32m<ipython-input-42-b3ec3687cde9>\u001b[0m in \u001b[0;36m<module>\u001b[0;34m()\u001b[0m\n\u001b[0;32m----> 1\u001b[0;31m \u001b[0mt\u001b[0m\u001b[0;34m[\u001b[0m\u001b[0;36m4\u001b[0m\u001b[0;34m]\u001b[0m \u001b[0;34m=\u001b[0m \u001b[0;34m'x'\u001b[0m\u001b[0;34m\u001b[0m\u001b[0m\n\u001b[0m",
      "\u001b[0;31mTypeError\u001b[0m: 'tuple' object does not support item assignment"
     ]
    }
   ],
   "source": [
    "t[4] = 'x'"
   ]
  },
  {
   "cell_type": "markdown",
   "metadata": {},
   "source": [
    "## Dictionaries"
   ]
  },
  {
   "cell_type": "markdown",
   "metadata": {},
   "source": [
    "Dictionaries are one of Python's most useful datatypes. They can be thought of as a list of key-value pairs, which can easily be looked up via the key (which can be anything)"
   ]
  },
  {
   "cell_type": "code",
   "execution_count": 44,
   "metadata": {
    "collapsed": false
   },
   "outputs": [
    {
     "name": "stdout",
     "output_type": "stream",
     "text": [
      "\n",
      "-> Define a dictionary <-\n",
      "{'A': 'Justin', 'B': 2, 5: 'Python'}\n",
      "<type 'dict'>\n",
      "\n",
      "-> Dictionaries can be defined over multiple lines <-\n",
      "{'A': 'Justin', 'B': 2, 5: 'Python'}\n"
     ]
    }
   ],
   "source": [
    "# Dictionaries are defined using brackets, colons, and commas\n",
    "explain(\"Define a dictionary\")\n",
    "d = {'A':'Justin', 5:'Python', 'B':2}\n",
    "print d\n",
    "print type(d)\n",
    "\n",
    "explain(\"Dictionaries can be defined over multiple lines\")\n",
    "d = {\n",
    "    'A':'Justin', \n",
    "    5:'Python',\n",
    "    'B':2\n",
    "}\n",
    "print d"
   ]
  },
  {
   "cell_type": "code",
   "execution_count": 45,
   "metadata": {
    "collapsed": false
   },
   "outputs": [
    {
     "name": "stdout",
     "output_type": "stream",
     "text": [
      "\n",
      "-> Access elements <-\n",
      "Justin\n",
      "Python\n",
      "\n",
      "-> Add an element to the dictionary <-\n",
      "{'A': 'Justin', 'B': 2, 5: 'Python', 'foo': 'bar'}\n",
      "\n",
      "-> Remove an element from the dictionary <-\n",
      "{'A': 'Justin', 5: 'Python', 'foo': 'bar'}\n",
      "\n",
      "-> Get list of dictionary keys <-\n",
      "['A', 5, 'foo']\n",
      "\n",
      "-> Get list of dictionary values <-\n",
      "['Justin', 'Python', 'bar']\n"
     ]
    }
   ],
   "source": [
    "# Dictionary elements are using by \"keys\"\n",
    "d = {'A':'Justin', 5:'Python', 'B':2}\n",
    "\n",
    "explain(\"Access elements\")\n",
    "print d['A']\n",
    "print d[5]\n",
    "\n",
    "explain(\"Add an element to the dictionary\")\n",
    "d['foo'] = 'bar'\n",
    "print d\n",
    "\n",
    "explain(\"Remove an element from the dictionary\")\n",
    "del d['B']\n",
    "print d\n",
    "\n",
    "explain(\"Get list of dictionary keys\")\n",
    "print d.keys()\n",
    "\n",
    "explain(\"Get list of dictionary values\")\n",
    "print d.values()"
   ]
  },
  {
   "cell_type": "code",
   "execution_count": 46,
   "metadata": {
    "collapsed": false
   },
   "outputs": [
    {
     "ename": "KeyError",
     "evalue": "'C'",
     "output_type": "error",
     "traceback": [
      "\u001b[0;31m---------------------------------------------------------------------------\u001b[0m",
      "\u001b[0;31mKeyError\u001b[0m                                  Traceback (most recent call last)",
      "\u001b[0;32m<ipython-input-46-1f3205ae8f7d>\u001b[0m in \u001b[0;36m<module>\u001b[0;34m()\u001b[0m\n\u001b[1;32m      1\u001b[0m \u001b[0;31m#If you try to use a key that doesn't exist, you get an error\u001b[0m\u001b[0;34m\u001b[0m\u001b[0;34m\u001b[0m\u001b[0m\n\u001b[1;32m      2\u001b[0m \u001b[0md\u001b[0m \u001b[0;34m=\u001b[0m \u001b[0;34m{\u001b[0m\u001b[0;34m'A'\u001b[0m\u001b[0;34m:\u001b[0m \u001b[0;34m'Justin'\u001b[0m\u001b[0;34m,\u001b[0m \u001b[0;34m'B'\u001b[0m\u001b[0;34m:\u001b[0m \u001b[0;36m2\u001b[0m\u001b[0;34m,\u001b[0m \u001b[0;36m5\u001b[0m\u001b[0;34m:\u001b[0m \u001b[0;34m'Python'\u001b[0m\u001b[0;34m}\u001b[0m\u001b[0;34m\u001b[0m\u001b[0m\n\u001b[0;32m----> 3\u001b[0;31m \u001b[0md\u001b[0m\u001b[0;34m[\u001b[0m\u001b[0;34m'C'\u001b[0m\u001b[0;34m]\u001b[0m\u001b[0;34m\u001b[0m\u001b[0m\n\u001b[0m",
      "\u001b[0;31mKeyError\u001b[0m: 'C'"
     ]
    }
   ],
   "source": [
    "#If you try to use a key that doesn't exist, you get an error\n",
    "d = {'A': 'Justin', 'B': 2, 5: 'Python'}\n",
    "d['C']"
   ]
  },
  {
   "cell_type": "code",
   "execution_count": 47,
   "metadata": {
    "collapsed": false
   },
   "outputs": [
    {
     "name": "stdout",
     "output_type": "stream",
     "text": [
      "Justin\n",
      "0\n"
     ]
    }
   ],
   "source": [
    "# It is sometimes useful to get a default value instead of an error when a key doesn't exist\n",
    "print d.get('A',0)    # 0 is the default value\n",
    "print d.get('C',0)    # 0 is the default value"
   ]
  },
  {
   "cell_type": "markdown",
   "metadata": {},
   "source": [
    "### End Day 2"
   ]
  },
  {
   "cell_type": "markdown",
   "metadata": {},
   "source": [
    "## If, elif, else blocks"
   ]
  },
  {
   "cell_type": "markdown",
   "metadata": {},
   "source": [
    "If blocks allow blocks of code to be executed only under specific conditions."
   ]
  },
  {
   "cell_type": "code",
   "execution_count": null,
   "metadata": {
    "collapsed": false
   },
   "outputs": [],
   "source": [
    "x = 5\n",
    "y = 6\n",
    "\n",
    "if x==y:\n",
    "    print 'In block 1'\n",
    "    print 'They are equal!'\n",
    "    \n",
    "elif x>y:\n",
    "    print 'In block 2'\n",
    "    print 'x is more than y'\n",
    "\n",
    "else:\n",
    "    print 'In block 2'\n",
    "    print 'y is more than x'"
   ]
  },
  {
   "cell_type": "markdown",
   "metadata": {},
   "source": [
    "Note the indentation within each code block. It is essential that all code within the same block have the same indentation level. For instance, the following code won't even run."
   ]
  },
  {
   "cell_type": "code",
   "execution_count": null,
   "metadata": {
    "collapsed": false
   },
   "outputs": [],
   "source": [
    "if x==y:\n",
    "    print 'In block 1'\n",
    "    print 'They are equal!'\n",
    "    \n",
    "elif x>y:\n",
    "    print 'In block 2'\n",
    "     print 'x is more than y'  # Notice the extra space here\n",
    "        \n",
    "else:\n",
    "    print 'In block 2'\n",
    "    print 'y is more than x'"
   ]
  },
  {
   "cell_type": "markdown",
   "metadata": {},
   "source": [
    "PEP 8 sytle specifies that code blocks should be indented not with tabs but with **4 spaces**. This makes code maintenence a lot easier. I strongly recommend you adhere to this convention."
   ]
  },
  {
   "cell_type": "markdown",
   "metadata": {},
   "source": [
    "## Loops"
   ]
  },
  {
   "cell_type": "markdown",
   "metadata": {},
   "source": [
    "In some fundamental sense, \"loops\" are what make a program a program. As in most programming languages there are two primary kinds of loops: \"for\" loops and \"while\" loops. "
   ]
  },
  {
   "cell_type": "code",
   "execution_count": null,
   "metadata": {
    "collapsed": false
   },
   "outputs": [],
   "source": [
    "explain(\"Print characters in a string one-by-one\")\n",
    "s = 'Hi there URPs!'\n",
    "for c in s:\n",
    "    print c"
   ]
  },
  {
   "cell_type": "code",
   "execution_count": null,
   "metadata": {
    "collapsed": false
   },
   "outputs": [],
   "source": [
    "explain(\"Print all nubmers from 0 to 9\")\n",
    "print range(10)\n",
    "\n",
    "for x in range(10):\n",
    "    print x"
   ]
  },
  {
   "cell_type": "code",
   "execution_count": null,
   "metadata": {
    "collapsed": false
   },
   "outputs": [],
   "source": [
    "explain(\"Print a geometric progression up to some defined value\")\n",
    "x = 1\n",
    "x_max = 3\n",
    "while x < x_max:\n",
    "    x *= 1.1\n",
    "    print x"
   ]
  },
  {
   "cell_type": "markdown",
   "metadata": {},
   "source": [
    "When using while loops, make very sure that your loop will actually end at some point. If your loop continues without end, go to \"Kernel -> Interrupt\" in the menu above. If your computer still acts strange, select \"Kernel -> Restart\". You will then have to evaluate your ipython notebook from the beginning. "
   ]
  },
  {
   "cell_type": "markdown",
   "metadata": {},
   "source": [
    "## Functions"
   ]
  },
  {
   "cell_type": "markdown",
   "metadata": {},
   "source": [
    "Finally, we illustrate how to define a function. Instead of defining a single line function (which is readily done), the following example illustrates various good practices"
   ]
  },
  {
   "cell_type": "code",
   "execution_count": null,
   "metadata": {
    "collapsed": false
   },
   "outputs": [],
   "source": [
    "def factorial(n):\n",
    "    \"\"\"Returns n factorial. n must be a nonnegative integer.\"\"\" # This is a \"doc string\"\n",
    "    \n",
    "    # Thow an error if n does not have the right form\n",
    "    assert isinstance(n,int),'Input is not an integer' \n",
    "    assert n >= 0,'Input is not nonnegative' \n",
    "    assert n <= 1000,'Intput is too large!'\n",
    "    \n",
    "    # Initialize return variable\n",
    "    val = 1\n",
    "    \n",
    "    # Loop over i=1,2,...,n\n",
    "    for i in range(1,n+1):   \n",
    "        val *= i\n",
    "        \n",
    "    return val  # Returns val to the user"
   ]
  },
  {
   "cell_type": "markdown",
   "metadata": {},
   "source": [
    "We test this function by computing n! for n=1,2,...10"
   ]
  },
  {
   "cell_type": "code",
   "execution_count": null,
   "metadata": {
    "collapsed": false
   },
   "outputs": [],
   "source": [
    "for n in range(10):\n",
    "    print str(n) + '! is ' + str(factorial(n))"
   ]
  },
  {
   "cell_type": "markdown",
   "metadata": {},
   "source": [
    "Just as important as making sure functions corectly process valid input correctly is to make sure they FAIL when provided with invalid input. Before a function does anything, it should test the validity of its input"
   ]
  },
  {
   "cell_type": "code",
   "execution_count": null,
   "metadata": {
    "collapsed": false
   },
   "outputs": [],
   "source": [
    "# This should fail\n",
    "print factorial(1.1)"
   ]
  },
  {
   "cell_type": "code",
   "execution_count": null,
   "metadata": {
    "collapsed": false
   },
   "outputs": [],
   "source": [
    "# This should fail\n",
    "print factorial(-10)"
   ]
  },
  {
   "cell_type": "code",
   "execution_count": null,
   "metadata": {
    "collapsed": false
   },
   "outputs": [],
   "source": [
    "# This should fail\n",
    "print factorial(\"I'm not even a number!\")"
   ]
  },
  {
   "cell_type": "code",
   "execution_count": null,
   "metadata": {
    "collapsed": false
   },
   "outputs": [],
   "source": [
    "# Also worth testing boundary cases\n",
    "print factorial(1000)"
   ]
  },
  {
   "cell_type": "markdown",
   "metadata": {},
   "source": [
    "The docstring is accessible from within python, and is often very useful. Execute the following command and a window will pop up that describes what this function does."
   ]
  },
  {
   "cell_type": "code",
   "execution_count": null,
   "metadata": {
    "collapsed": false
   },
   "outputs": [],
   "source": [
    "# Display docstring for factorial()\n",
    "factorial?"
   ]
  },
  {
   "cell_type": "markdown",
   "metadata": {},
   "source": [
    "*** Put in some actually useful function example ***"
   ]
  },
  {
   "cell_type": "code",
   "execution_count": null,
   "metadata": {
    "collapsed": true
   },
   "outputs": [],
   "source": []
  }
 ],
 "metadata": {
  "kernelspec": {
   "display_name": "Python 2",
   "language": "python",
   "name": "python2"
  },
  "language_info": {
   "codemirror_mode": {
    "name": "ipython",
    "version": 2
   },
   "file_extension": ".py",
   "mimetype": "text/x-python",
   "name": "python",
   "nbconvert_exporter": "python",
   "pygments_lexer": "ipython2",
   "version": "2.7.11"
  }
 },
 "nbformat": 4,
 "nbformat_minor": 0
}
