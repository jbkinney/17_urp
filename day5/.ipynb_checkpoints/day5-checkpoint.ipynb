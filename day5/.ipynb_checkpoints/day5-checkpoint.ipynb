{
 "cells": [
  {
   "cell_type": "markdown",
   "metadata": {},
   "source": [
    "# Day 5: Introduction to Python\n",
    "\n",
    "### by Justin B. Kinney"
   ]
  },
  {
   "cell_type": "markdown",
   "metadata": {},
   "source": [
    "As always, do this first"
   ]
  },
  {
   "cell_type": "code",
   "execution_count": 1,
   "metadata": {
    "collapsed": false
   },
   "outputs": [],
   "source": [
    "# Always put this first\n",
    "%matplotlib inline\n",
    "from __future__ import division\n",
    "import numpy as np\n",
    "import pandas as pd\n",
    "import matplotlib.pyplot as plt"
   ]
  },
  {
   "cell_type": "markdown",
   "metadata": {},
   "source": [
    "Today we will load data from a DNA replicaiton profiling experiment, smooth read counts along the genome, and plot the resulting replication profiles. This will give us a chance to use one of the most useful python modules out there: **pandas**"
   ]
  },
  {
   "cell_type": "code",
   "execution_count": 2,
   "metadata": {
    "collapsed": false
   },
   "outputs": [
    {
     "name": "stdout",
     "output_type": "stream",
     "text": [
      "rm: *.pdf: No such file or directory\n",
      "rm: *.png: No such file or directory\n",
      "total 78192\n",
      "drwxr-xr-x   9 jkinney  staff   306B Jul 19 17:11 \u001b[1m\u001b[34m.\u001b[m\u001b[m\n",
      "drwxr-xr-x  10 jkinney  staff   340B Jul 19 12:55 \u001b[1m\u001b[34m..\u001b[m\u001b[m\n",
      "drwxr-xr-x   3 jkinney  staff   102B Jul 19 12:56 \u001b[1m\u001b[34m.ipynb_checkpoints\u001b[m\u001b[m\n",
      "-rw-------@  1 jkinney  staff   8.7M Nov  7  2011 A1.pileup.bed\n",
      "-rw-------@  1 jkinney  staff   8.7M Nov  7  2011 B1.pileup.bed\n",
      "-rw-------@  1 jkinney  staff   8.7M Nov  8  2011 C1.pileup.bed\n",
      "-rw-------   1 jkinney  staff   8.7M Jul 19 13:53 D1.pileup.bed\n",
      "-rw-r--r--@  1 jkinney  staff   3.5M Jul 19 16:28 EdU_pulldown_experiment.key\n",
      "-rwx------@  1 jkinney  staff    16K Jul 19 17:11 \u001b[1m\u001b[32mday5.ipynb\u001b[m\u001b[m\n"
     ]
    }
   ],
   "source": [
    "# Clean current directory and list files\n",
    "# WARNING: won't work on Windows Machines\n",
    "!rm *.pdf *.png\n",
    "!ls -lah"
   ]
  },
  {
   "cell_type": "markdown",
   "metadata": {},
   "source": [
    "The files we want are the X1.pileup.bed files. Let's use 'cat' to see what these files look like"
   ]
  },
  {
   "cell_type": "code",
   "execution_count": 3,
   "metadata": {
    "collapsed": false
   },
   "outputs": [
    {
     "name": "stdout",
     "output_type": "stream",
     "text": [
      "browser position chrIV:1-1531933\r\n",
      "track type=bedGraph visibility=2 name=\"A1\" description=\"A1\"\r\n",
      "chrI\t1\t31\t2\t\r\n",
      "chrI\t32\t62\t0\t\r\n",
      "chrI\t63\t93\t1\t\r\n",
      "chrI\t94\t124\t0\t\r\n",
      "chrI\t125\t155\t3\t\r\n",
      "chrI\t156\t186\t0\t\r\n",
      "chrI\t187\t217\t0\t\r\n",
      "chrI\t218\t248\t0\t\r\n"
     ]
    }
   ],
   "source": [
    "# Warning: won't work on Windows machines\n",
    "!head A1.pileup.bed"
   ]
  },
  {
   "cell_type": "markdown",
   "metadata": {},
   "source": [
    "This is a tab-delimited text file. This is exactly the kind of file that pandas is designed to work with. Let's open the file up using pandas"
   ]
  },
  {
   "cell_type": "code",
   "execution_count": 4,
   "metadata": {
    "collapsed": false
   },
   "outputs": [],
   "source": [
    "# Read file into a pandas \"data frame\"\n",
    "df = pd.read_csv('A1.pileup.bed',  \n",
    "                 names=['chromosome','start','stop','reads'], \n",
    "                 delim_whitespace=True, \n",
    "                 skiprows=2)"
   ]
  },
  {
   "cell_type": "code",
   "execution_count": 5,
   "metadata": {
    "collapsed": false
   },
   "outputs": [
    {
     "data": {
      "text/plain": [
       "(389384, 4)"
      ]
     },
     "execution_count": 5,
     "metadata": {},
     "output_type": "execute_result"
    }
   ],
   "source": [
    "# Check the size of the dataframe\n",
    "df.shape"
   ]
  },
  {
   "cell_type": "code",
   "execution_count": 6,
   "metadata": {
    "collapsed": false
   },
   "outputs": [
    {
     "data": {
      "text/html": [
       "<div>\n",
       "<table border=\"1\" class=\"dataframe\">\n",
       "  <thead>\n",
       "    <tr style=\"text-align: right;\">\n",
       "      <th></th>\n",
       "      <th>chromosome</th>\n",
       "      <th>start</th>\n",
       "      <th>stop</th>\n",
       "      <th>reads</th>\n",
       "    </tr>\n",
       "  </thead>\n",
       "  <tbody>\n",
       "    <tr>\n",
       "      <th>0</th>\n",
       "      <td>chrI</td>\n",
       "      <td>1</td>\n",
       "      <td>31</td>\n",
       "      <td>2</td>\n",
       "    </tr>\n",
       "    <tr>\n",
       "      <th>1</th>\n",
       "      <td>chrI</td>\n",
       "      <td>32</td>\n",
       "      <td>62</td>\n",
       "      <td>0</td>\n",
       "    </tr>\n",
       "    <tr>\n",
       "      <th>2</th>\n",
       "      <td>chrI</td>\n",
       "      <td>63</td>\n",
       "      <td>93</td>\n",
       "      <td>1</td>\n",
       "    </tr>\n",
       "    <tr>\n",
       "      <th>3</th>\n",
       "      <td>chrI</td>\n",
       "      <td>94</td>\n",
       "      <td>124</td>\n",
       "      <td>0</td>\n",
       "    </tr>\n",
       "    <tr>\n",
       "      <th>4</th>\n",
       "      <td>chrI</td>\n",
       "      <td>125</td>\n",
       "      <td>155</td>\n",
       "      <td>3</td>\n",
       "    </tr>\n",
       "  </tbody>\n",
       "</table>\n",
       "</div>"
      ],
      "text/plain": [
       "  chromosome  start  stop  reads\n",
       "0       chrI      1    31      2\n",
       "1       chrI     32    62      0\n",
       "2       chrI     63    93      1\n",
       "3       chrI     94   124      0\n",
       "4       chrI    125   155      3"
      ]
     },
     "execution_count": 6,
     "metadata": {},
     "output_type": "execute_result"
    }
   ],
   "source": [
    "# Check the first 5 rows of the dataframe\n",
    "df.head()"
   ]
  },
  {
   "cell_type": "code",
   "execution_count": 7,
   "metadata": {
    "collapsed": false
   },
   "outputs": [
    {
     "data": {
      "text/html": [
       "<div>\n",
       "<table border=\"1\" class=\"dataframe\">\n",
       "  <thead>\n",
       "    <tr style=\"text-align: right;\">\n",
       "      <th></th>\n",
       "      <th>chromosome</th>\n",
       "      <th>start</th>\n",
       "      <th>stop</th>\n",
       "      <th>reads</th>\n",
       "    </tr>\n",
       "  </thead>\n",
       "  <tbody>\n",
       "    <tr>\n",
       "      <th>389379</th>\n",
       "      <td>chrXVI</td>\n",
       "      <td>947888</td>\n",
       "      <td>947918</td>\n",
       "      <td>6</td>\n",
       "    </tr>\n",
       "    <tr>\n",
       "      <th>389380</th>\n",
       "      <td>chrXVI</td>\n",
       "      <td>947919</td>\n",
       "      <td>947949</td>\n",
       "      <td>4</td>\n",
       "    </tr>\n",
       "    <tr>\n",
       "      <th>389381</th>\n",
       "      <td>chrXVI</td>\n",
       "      <td>947950</td>\n",
       "      <td>947980</td>\n",
       "      <td>8</td>\n",
       "    </tr>\n",
       "    <tr>\n",
       "      <th>389382</th>\n",
       "      <td>chrXVI</td>\n",
       "      <td>947981</td>\n",
       "      <td>948011</td>\n",
       "      <td>7</td>\n",
       "    </tr>\n",
       "    <tr>\n",
       "      <th>389383</th>\n",
       "      <td>chrXVI</td>\n",
       "      <td>948012</td>\n",
       "      <td>948042</td>\n",
       "      <td>13</td>\n",
       "    </tr>\n",
       "  </tbody>\n",
       "</table>\n",
       "</div>"
      ],
      "text/plain": [
       "       chromosome   start    stop  reads\n",
       "389379     chrXVI  947888  947918      6\n",
       "389380     chrXVI  947919  947949      4\n",
       "389381     chrXVI  947950  947980      8\n",
       "389382     chrXVI  947981  948011      7\n",
       "389383     chrXVI  948012  948042     13"
      ]
     },
     "execution_count": 7,
     "metadata": {},
     "output_type": "execute_result"
    }
   ],
   "source": [
    "# Check the last 5 rows of the dataframe\n",
    "df.tail()"
   ]
  },
  {
   "cell_type": "code",
   "execution_count": 8,
   "metadata": {
    "collapsed": false
   },
   "outputs": [
    {
     "name": "stdout",
     "output_type": "stream",
     "text": [
      "value at row 0, column \"start\" is 2\n",
      "This value is a <type 'numpy.int64'>\n"
     ]
    }
   ],
   "source": [
    "# Extract a value from the table \n",
    "value = df.loc[0,'reads']\n",
    "print 'value at row 0, column \"start\" is', value\n",
    "print 'This value is a', type(value)"
   ]
  },
  {
   "cell_type": "code",
   "execution_count": 9,
   "metadata": {
    "collapsed": false
   },
   "outputs": [
    {
     "name": "stdout",
     "output_type": "stream",
     "text": [
      "value at row number 0, column number 3 is 2\n",
      "This value is a <type 'numpy.int64'>\n"
     ]
    }
   ],
   "source": [
    "# Extract a value by numerical location\n",
    "value = df.iloc[0,3]\n",
    "print 'value at row number 0, column number 3 is', value\n",
    "print 'This value is a', type(value)"
   ]
  },
  {
   "cell_type": "code",
   "execution_count": 10,
   "metadata": {
    "collapsed": false
   },
   "outputs": [
    {
     "name": "stdout",
     "output_type": "stream",
     "text": [
      "col an <class 'pandas.core.series.Series'> object of length 389384\n",
      "The first 5 elements are\n",
      "0    2\n",
      "1    0\n",
      "2    1\n",
      "3    0\n",
      "4    3\n",
      "Name: reads, dtype: int64\n"
     ]
    }
   ],
   "source": [
    "# Extract a column\n",
    "col = df.loc[:,'reads']\n",
    "print 'col an %s object of length %d'%(type(col),len(col))\n",
    "print 'The first 5 elements are\\n', col[:5]"
   ]
  },
  {
   "cell_type": "code",
   "execution_count": 11,
   "metadata": {
    "collapsed": false
   },
   "outputs": [
    {
     "name": "stdout",
     "output_type": "stream",
     "text": [
      "col_narray an <type 'numpy.ndarray'> object of length 389384\n",
      "The first 5 elements are [2 0 1 0 3]\n"
     ]
    }
   ],
   "source": [
    "# Convert a Series into a numpy array\n",
    "col_narray = col.values\n",
    "print 'col_narray an %s object of length %d'%(type(col_narray),len(col_narray))\n",
    "print 'The first 5 elements are', col_narray[:5]"
   ]
  },
  {
   "cell_type": "code",
   "execution_count": 12,
   "metadata": {
    "collapsed": false
   },
   "outputs": [
    {
     "name": "stdout",
     "output_type": "stream",
     "text": [
      "chr4_df has 49417 rows\n"
     ]
    },
    {
     "data": {
      "text/html": [
       "<div>\n",
       "<table border=\"1\" class=\"dataframe\">\n",
       "  <thead>\n",
       "    <tr style=\"text-align: right;\">\n",
       "      <th></th>\n",
       "      <th>chromosome</th>\n",
       "      <th>start</th>\n",
       "      <th>stop</th>\n",
       "      <th>reads</th>\n",
       "    </tr>\n",
       "  </thead>\n",
       "  <tbody>\n",
       "    <tr>\n",
       "      <th>43869</th>\n",
       "      <td>chrIV</td>\n",
       "      <td>1</td>\n",
       "      <td>31</td>\n",
       "      <td>0</td>\n",
       "    </tr>\n",
       "    <tr>\n",
       "      <th>43870</th>\n",
       "      <td>chrIV</td>\n",
       "      <td>32</td>\n",
       "      <td>62</td>\n",
       "      <td>1</td>\n",
       "    </tr>\n",
       "    <tr>\n",
       "      <th>43871</th>\n",
       "      <td>chrIV</td>\n",
       "      <td>63</td>\n",
       "      <td>93</td>\n",
       "      <td>1</td>\n",
       "    </tr>\n",
       "    <tr>\n",
       "      <th>43872</th>\n",
       "      <td>chrIV</td>\n",
       "      <td>94</td>\n",
       "      <td>124</td>\n",
       "      <td>1</td>\n",
       "    </tr>\n",
       "    <tr>\n",
       "      <th>43873</th>\n",
       "      <td>chrIV</td>\n",
       "      <td>125</td>\n",
       "      <td>155</td>\n",
       "      <td>0</td>\n",
       "    </tr>\n",
       "  </tbody>\n",
       "</table>\n",
       "</div>"
      ],
      "text/plain": [
       "      chromosome  start  stop  reads\n",
       "43869      chrIV      1    31      0\n",
       "43870      chrIV     32    62      1\n",
       "43871      chrIV     63    93      1\n",
       "43872      chrIV     94   124      1\n",
       "43873      chrIV    125   155      0"
      ]
     },
     "execution_count": 12,
     "metadata": {},
     "output_type": "execute_result"
    }
   ],
   "source": [
    "# Extract values for chromosome IV only. \n",
    "chrom_we_want = 'chrIV'\n",
    "indices = df.loc[:,'chromosome']==chrom_we_want\n",
    "chr4_df = df.loc[indices,:]\n",
    "print 'chr4_df has %d rows'%len(chr4_df)\n",
    "chr4_df.head()"
   ]
  },
  {
   "cell_type": "code",
   "execution_count": 13,
   "metadata": {
    "collapsed": false
   },
   "outputs": [
    {
     "name": "stdout",
     "output_type": "stream",
     "text": [
      "31\n"
     ]
    }
   ],
   "source": [
    "# Compute read length\n",
    "read_length = df.loc[0,'stop'] - df.loc[0,'start'] + 1\n",
    "print read_length"
   ]
  },
  {
   "cell_type": "markdown",
   "metadata": {},
   "source": [
    "Now let's plot these number of reads across the chromosome."
   ]
  },
  {
   "cell_type": "code",
   "execution_count": 21,
   "metadata": {
    "collapsed": false
   },
   "outputs": [],
   "source": [
    "# Extract vectors of starts, stops, and number of reads\n",
    "starts = chr4_df.loc[:,'start'].values\n",
    "stops = chr4_df.loc[:,'stop'].values\n",
    "num_reads = chr4_df.loc[:,'reads'].values"
   ]
  },
  {
   "cell_type": "code",
   "execution_count": 22,
   "metadata": {
    "collapsed": false
   },
   "outputs": [
    {
     "data": {
      "text/plain": [
       "[<matplotlib.lines.Line2D at 0x101bf08d0>]"
      ]
     },
     "execution_count": 22,
     "metadata": {},
     "output_type": "execute_result"
    },
    {
     "data": {
      "image/png": "[encoded data removed]",
      "text/plain": [
       "<matplotlib.figure.Figure at 0x111ee1990>"
      ]
     },
     "metadata": {},
     "output_type": "display_data"
    }
   ],
   "source": [
    "# Plot the starts\n",
    "plt.plot(starts, num_reads)"
   ]
  },
  {
   "cell_type": "markdown",
   "metadata": {},
   "source": [
    "Well, this kinda looks right. But we're too far away to see what's going on well. Let's zoom in"
   ]
  },
  {
   "cell_type": "code",
   "execution_count": 23,
   "metadata": {
    "collapsed": false
   },
   "outputs": [
    {
     "data": {
      "text/plain": [
       "[<matplotlib.lines.Line2D at 0x10a9ecd50>]"
      ]
     },
     "execution_count": 23,
     "metadata": {},
     "output_type": "execute_result"
    },
    {
     "data": {
      "image/png": "[encoded data removed]",
      "text/plain": [
       "<matplotlib.figure.Figure at 0x111f79790>"
      ]
     },
     "metadata": {},
     "output_type": "display_data"
    }
   ],
   "source": [
    "# Zoom in to region between 400K and 500k\n",
    "zoom_indices = (starts > 4E5) & (starts < 5E5)\n",
    "plt.plot(starts[zoom_indices], num_reads[zoom_indices])"
   ]
  },
  {
   "cell_type": "markdown",
   "metadata": {},
   "source": [
    "It's becomming clear that, in order to make sense of this data, we're going to need to smooth it. How do we do that? Fortunately, SciPy contains tons of routines for signal processing like this. "
   ]
  },
  {
   "cell_type": "code",
   "execution_count": 27,
   "metadata": {
    "collapsed": false
   },
   "outputs": [
    {
     "name": "stdout",
     "output_type": "stream",
     "text": [
      "193\n"
     ]
    }
   ],
   "source": [
    "# Create a \"kernel\" with which to smooth the data\n",
    "# from experience, 6 kb is a nice window size\n",
    "window_bp = 6000\n",
    "read_length = 31\n",
    "window_size = window_bp//read_length\n",
    "print window_size"
   ]
  },
  {
   "cell_type": "code",
   "execution_count": 28,
   "metadata": {
    "collapsed": false
   },
   "outputs": [
    {
     "data": {
      "text/plain": [
       "1.0000000000000024"
      ]
     },
     "execution_count": 28,
     "metadata": {},
     "output_type": "execute_result"
    }
   ],
   "source": [
    "# Create a window kernel so that all elements sum to 1\n",
    "window = np.ones(window_size)/window_size\n",
    "\n",
    "# Make sure that the \n",
    "sum(window)"
   ]
  },
  {
   "cell_type": "code",
   "execution_count": 29,
   "metadata": {
    "collapsed": false
   },
   "outputs": [],
   "source": [
    "from scipy.signal import convolve\n",
    "\n",
    "# Smooth the data by convolving (not convoluting!) the window with the read counts\n",
    "smooth_reads = convolve(num_reads,window,'same')"
   ]
  },
  {
   "cell_type": "code",
   "execution_count": 30,
   "metadata": {
    "collapsed": false
   },
   "outputs": [
    {
     "data": {
      "text/plain": [
       "[<matplotlib.lines.Line2D at 0x11a2280d0>]"
      ]
     },
     "execution_count": 30,
     "metadata": {},
     "output_type": "execute_result"
    },
    {
     "data": {
      "image/png": "[encoded data removed]",
      "text/plain": [
       "<matplotlib.figure.Figure at 0x11a228110>"
      ]
     },
     "metadata": {},
     "output_type": "display_data"
    }
   ],
   "source": [
    "plt.plot(starts[zoom_indices], num_reads[zoom_indices])\n",
    "plt.plot(starts[zoom_indices], smooth_reads[zoom_indices])"
   ]
  },
  {
   "cell_type": "markdown",
   "metadata": {},
   "source": [
    "Hm, this is a bit hard to see. Let's clairfy the plot."
   ]
  },
  {
   "cell_type": "code",
   "execution_count": 31,
   "metadata": {
    "collapsed": false
   },
   "outputs": [
    {
     "data": {
      "text/plain": [
       "[<matplotlib.lines.Line2D at 0x11a23fe50>]"
      ]
     },
     "execution_count": 31,
     "metadata": {},
     "output_type": "execute_result"
    },
    {
     "data": {
      "image/png": "[encoded data removed]",
      "text/plain": [
       "<matplotlib.figure.Figure at 0x11a194e10>"
      ]
     },
     "metadata": {},
     "output_type": "display_data"
    }
   ],
   "source": [
    "orange = [1, .5, 0]\n",
    "lightblue = [0, .5, 1]\n",
    "plt.plot(starts[zoom_indices], num_reads[zoom_indices], color=orange)\n",
    "plt.plot(starts[zoom_indices], smooth_reads[zoom_indices], color=lightblue, linewidth=3)"
   ]
  },
  {
   "cell_type": "markdown",
   "metadata": {},
   "source": [
    "Great. Now let's make a chromosome-wide replication profile. Let's also put a little effort into making it look pretty. "
   ]
  },
  {
   "cell_type": "code",
   "execution_count": 32,
   "metadata": {
    "collapsed": false
   },
   "outputs": [
    {
     "data": {
      "image/png": "[encoded data removed]",
      "text/plain": [
       "<matplotlib.figure.Figure at 0x11a1b71d0>"
      ]
     },
     "metadata": {},
     "output_type": "display_data"
    }
   ],
   "source": [
    "# Choose our color\n",
    "lightblue = [0, .5, 1]\n",
    "\n",
    "# Easier to discuss genomic positions in kb\n",
    "kb = 1E3\n",
    "x = 0.5*(starts+stops)/kb\n",
    "L = max(x)\n",
    "\n",
    "figure_size = [20,2.5]\n",
    "label_size = 16\n",
    "title_size = 20\n",
    "plt.figure(figsize=figure_size)\n",
    "\n",
    "# Plot\n",
    "plt.plot(x, smooth_reads, color=lightblue, linewidth=2)\n",
    "\n",
    "# Place tick marks on x axis ever 200 kb\n",
    "plt.xticks(np.arange(0,L,200), fontsize=label_size)\n",
    "\n",
    "# Fit plot to precisely the width of the chromosome\n",
    "plt.xlim([min(x), max(x)])\n",
    "\n",
    "# No need to show ticks on the y axes\n",
    "plt.yticks([])\n",
    "\n",
    "# Add some text annotation, telling the user\n",
    "plt.title('Replication profile', fontsize=title_size)\n",
    "plt.xlabel(chrom_we_want + ' position (in kb)', fontsize=label_size)\n",
    "\n",
    "# Fix spacing\n",
    "plt.tight_layout()\n",
    "\n",
    "file_name = 'profile_for_%s.png'%chrom_we_want\n",
    "plt.savefig(file_name)\n",
    "\n",
    "plt.show()"
   ]
  },
  {
   "cell_type": "markdown",
   "metadata": {},
   "source": [
    "Great! With this smoothed data we can go ahead and identify peaks in the replicaiton profile, measure their width, height, etc. "
   ]
  },
  {
   "cell_type": "code",
   "execution_count": 33,
   "metadata": {
    "collapsed": false
   },
   "outputs": [
    {
     "name": "stdout",
     "output_type": "stream",
     "text": [
      "total 78488\r\n",
      "drwxr-xr-x  10 jkinney  staff   340B Jul 19 17:53 \u001b[1m\u001b[34m.\u001b[m\u001b[m\r\n",
      "drwxr-xr-x  10 jkinney  staff   340B Jul 19 12:55 \u001b[1m\u001b[34m..\u001b[m\u001b[m\r\n",
      "drwxr-xr-x   3 jkinney  staff   102B Jul 19 12:56 \u001b[1m\u001b[34m.ipynb_checkpoints\u001b[m\u001b[m\r\n",
      "-rw-------@  1 jkinney  staff   8.7M Nov  7  2011 A1.pileup.bed\r\n",
      "-rw-------@  1 jkinney  staff   8.7M Nov  7  2011 B1.pileup.bed\r\n",
      "-rw-------@  1 jkinney  staff   8.7M Nov  8  2011 C1.pileup.bed\r\n",
      "-rw-------   1 jkinney  staff   8.7M Jul 19 13:53 D1.pileup.bed\r\n",
      "-rw-r--r--@  1 jkinney  staff   3.5M Jul 19 16:28 EdU_pulldown_experiment.key\r\n",
      "-rwx------@  1 jkinney  staff   133K Jul 19 17:53 \u001b[1m\u001b[32mday5.ipynb\u001b[m\u001b[m\r\n",
      "-rw-r--r--   1 jkinney  staff    29K Jul 19 17:52 profile_for_chrIV.png\r\n"
     ]
    }
   ],
   "source": [
    "# WARNING: Won't work on windows machines\n",
    "!ls -lah"
   ]
  },
  {
   "cell_type": "code",
   "execution_count": 34,
   "metadata": {
    "collapsed": false
   },
   "outputs": [],
   "source": [
    "!open $file_name"
   ]
  },
  {
   "cell_type": "markdown",
   "metadata": {},
   "source": [
    "Now let's write a function that will load and smooth the profile from any chromosome we want"
   ]
  },
  {
   "cell_type": "code",
   "execution_count": null,
   "metadata": {
    "collapsed": false
   },
   "outputs": [],
   "source": [
    "import os.path \n",
    "\n",
    "def load_and_smooth_profile(file_name, chrom_we_want, window_bp=6000):\n",
    "    \"\"\"\n",
    "    Load a smooth a replication profile.\n",
    "    \n",
    "    Arguments:\n",
    "        file_name -- name of a bed file containing the data\n",
    "        chrom_we_want -- chromosome name in Roman numerals: chrI, ..., chrXVI\n",
    "        window_bp -- length of smoothing window in bp\n",
    "    \n",
    "    Returns:\n",
    "        centers -- location of bin centers along the chromosome\n",
    "        smooth_reads -- smoothed number of reads in each bin\n",
    "    \"\"\"\n",
    "   \n",
    "    # Check validity of file\n",
    "    assert isinstance(file_name,str), 'file_name is not a string.'\n",
    "    assert os.path.isfile(file_name), 'file %s does not exist'%file_name\n",
    "    \n",
    "    # Read file into dataframe \n",
    "    df = pd.read_csv(file_name,  \n",
    "                 names=['chromosome','start','stop','reads'], \n",
    "                 delim_whitespace=True, \n",
    "                 skiprows=2)\n",
    "    \n",
    "    # Check validity of chromosome\n",
    "    assert isinstance(chrom_we_want,str), 'chrom_we_want is not a string'\n",
    "    assert chrom_we_want in df.loc[:,'chromosome'].values, 'chrom_we_want value %s not found in data frame.'%chrom_we_want\n",
    "        \n",
    "    # Check validity of window_bp\n",
    "    assert isinstance(window_bp, int), \"window_bp is not an integer.\"\n",
    "    assert window_bp > 0, \"nonpositive window_bp value of %d\"%window_bp\n",
    "    \n",
    "    # Choose rows to look at\n",
    "    indices = df['chromosome']==chrom_we_want\n",
    "    \n",
    "    # Extract read_lenght, num_reads and centers\n",
    "    chr_df = df.loc[indices,:]\n",
    "    num_reads = chr_df.loc[:,'reads'].values\n",
    "    starts = chr_df.loc[:,'start'].values\n",
    "    stops = chr_df.loc[:,'stop'].values\n",
    "    centers = 0.5*(starts + stops)\n",
    "    \n",
    "    # Create convolution window\n",
    "    read_length = df.loc[0,'stop'] - df.loc[0,'start'] + 1\n",
    "    window_size = window_bp//read_length\n",
    "    window = np.ones(window_size)/window_size\n",
    "    \n",
    "    # Smooth read counts\n",
    "    smooth_reads = convolve(num_reads,window,'same')\n",
    "    \n",
    "    # Now return results\n",
    "    return centers, smooth_reads"
   ]
  },
  {
   "cell_type": "code",
   "execution_count": null,
   "metadata": {
    "collapsed": false
   },
   "outputs": [],
   "source": [
    "def plot_profile(centers, \n",
    "                 smooth_reads,  \n",
    "                 title='', \n",
    "                 kbspacing=200, \n",
    "                 color=[0, .5, 1]):\n",
    "    \"\"\"\n",
    "    Plot a replication profile\n",
    "    \n",
    "    Arguments:\n",
    "        centers -- numpy array of bin locations\n",
    "        smooth_reads -- numpy array of smoothed read counts; same length as centers\n",
    "        title -- title for plot\n",
    "        kbspacing -- tick mark spaking in kilobases\n",
    "        color -- color of plot\n",
    "    \"\"\"\n",
    "    \n",
    "    assert len(centers)==len(smooth_reads), \"centers and smooth_reads are not the same length.\"\n",
    "    assert isinstance(title,str), \"title is not a string\"\n",
    "    assert isinstance(kbspacing,int), \"kbspacing is not an int\"\n",
    "    assert kbspacing > 0, \"nonpositive kbspacing value of %d\"%kbspacing\n",
    "    \n",
    "    # Easier to discuss genomic positions in kb\n",
    "    kb = 1E3\n",
    "    x = centers/kb\n",
    "    L = max(x)\n",
    "    \n",
    "    label_size = 16\n",
    "    title_size = 20\n",
    "    \n",
    "    # Plot\n",
    "    plt.plot(x, smooth_reads, color=color, linewidth=2)\n",
    "    \n",
    "    # Place tick marks on x axis ever 200 kb\n",
    "    plt.xticks(np.arange(0,L,kbspacing), fontsize=label_size)\n",
    "    \n",
    "    # Fit plot to precisely the width of the chromosome\n",
    "    plt.xlim([min(x), max(x)])\n",
    "    \n",
    "    # No need to show ticks on the y axes\n",
    "    plt.yticks([])\n",
    "    \n",
    "    # Add some text annotation, telling the user\n",
    "    plt.title(title, fontsize=title_size)\n",
    "    plt.xlabel('position (in kb)', fontsize=label_size)\n",
    "    "
   ]
  },
  {
   "cell_type": "code",
   "execution_count": null,
   "metadata": {
    "collapsed": false
   },
   "outputs": [],
   "source": [
    "# Plot 4 replication profiles\n",
    "plt.figure(figsize=[20,5])\n",
    "\n",
    "# Chromosome to focus on\n",
    "chrom_we_want = 'chrII'\n",
    "\n",
    "# Names of samples\n",
    "samples = ['A1','B1','C1','D1']\n",
    "\n",
    "# Look over each sample\n",
    "for num, name in enumerate(samples):\n",
    "\n",
    "    # Smooth profile\n",
    "    file_name = '%s.pileup.bed'%name\n",
    "    ctrs, rds = load_and_smooth_profile(file_name, chrom_we_want)\n",
    "    \n",
    "    # Plot profile\n",
    "    plt.subplot(2,2,num+1)\n",
    "    title = '%s %s'%(name,chrom_we_want)\n",
    "    plot_profile(ctrs, rds, title=title, kbspacing=100)\n",
    "\n",
    "# Fix layout\n",
    "plt.tight_layout()\n",
    "\n",
    "# Save \n",
    "plt.savefig('%s_all_samples.pdf'%chrom_we_want)\n",
    "\n",
    "# Show plot\n",
    "plt.show()"
   ]
  },
  {
   "cell_type": "code",
   "execution_count": null,
   "metadata": {
    "collapsed": false
   },
   "outputs": [],
   "source": [
    "# Open figure in another applicaiton\n",
    "# WARNING: won't work on Windows Machines\n",
    "!open *_all_samples.pdf"
   ]
  },
  {
   "cell_type": "markdown",
   "metadata": {},
   "source": [
    "Done."
   ]
  }
 ],
 "metadata": {
  "kernelspec": {
   "display_name": "Python 2",
   "language": "python",
   "name": "python2"
  },
  "language_info": {
   "codemirror_mode": {
    "name": "ipython",
    "version": 2
   },
   "file_extension": ".py",
   "mimetype": "text/x-python",
   "name": "python",
   "nbconvert_exporter": "python",
   "pygments_lexer": "ipython2",
   "version": "2.7.11"
  }
 },
 "nbformat": 4,
 "nbformat_minor": 0
}
