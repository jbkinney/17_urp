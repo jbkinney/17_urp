{
 "cells": [
  {
   "cell_type": "markdown",
   "metadata": {},
   "source": [
    "# Day 1: Introduction to Python 2.7 and the IPython Notebook\n",
    "\n",
    "### by Justin B. Kinney"
   ]
  },
  {
   "cell_type": "markdown",
   "metadata": {},
   "source": [
    "Today's tutorial gives an introduction to only the most basic features of Python 2.7 and the Jupyter IPython Notebook. The programming topics covered are **variables, numbers, boolean numbers, strings, lists, dictionaries, conditionals, loops, and functions.**"
   ]
  },
  {
   "cell_type": "markdown",
   "metadata": {},
   "source": [
    "## About Python"
   ]
  },
  {
   "cell_type": "markdown",
   "metadata": {},
   "source": [
    "Python is a very flexible language. You can use it to analyze data on the fly, write small analysis scripts, or write major software applications. I program almost exclusively in python in my day-to-day work. "
   ]
  },
  {
   "cell_type": "markdown",
   "metadata": {},
   "source": [
    "Python is a user-friendly language. It is designed for maximum readability. More than almost any language out there, valid python code looks like pseudocode. Many aspects of the language help to enforce clarity. There is also a set of convensions, called the PEP 8 Style Guide, that most programmers have adopted in order to make their code as clear as possible. I recommend trying to follow PEP 8 as much as possible, if only to make your code easier to decipher when you come back to it after a year or two of disuse. "
   ]
  },
  {
   "cell_type": "markdown",
   "metadata": {},
   "source": [
    "Python is a rapid prototyping language. It is designed to allow you to write programs as quickly and as painlessly as possible. One feature of Python that enables rapid prototyping is that it is an \"interpreted\" language: each line is executed by the Python \"interpreter\" one after the next. This is different than C, C++, or Java, which require that programs first be \"compiled\", i.e. translated in their entirety from code to byte code before they are run. "
   ]
  },
  {
   "cell_type": "markdown",
   "metadata": {},
   "source": [
    "Python is a very well-supported language. There is an enormous user base for python, and a large number of mature packages are now available for a wide variety of tasks. This was NOT the case 12 years ago when I first started learning Python. But now I am able to use Python for virtually all of my programming needs. And when I have a question about how to code something (which is about once every 2 minutes), Google is usually able to satisfy my question within a minute or two. "
   ]
  },
  {
   "cell_type": "markdown",
   "metadata": {},
   "source": [
    "The official python documentation page is https://www.python.org/. Lots of good documentation and tutorials can be found here. Another great resource for programmers is Stack Overflow at http://stackoverflow.com/. Just google a question about Python programming, and the first hit will likey be a post on Stack Overflow that answers your question. "
   ]
  },
  {
   "cell_type": "markdown",
   "metadata": {},
   "source": [
    "**Beware: There are 2 mutually incompatible versions of Python in widespread use: Python 2.7 and Python 3.5. Most packages have been written for 2.7, and this is the version used by most scientists. We will use 2.7 throughout this tutorial. Unless you know what you are doing, I suggest not even installing Python 3.5 on your computer.**"
   ]
  },
  {
   "cell_type": "markdown",
   "metadata": {},
   "source": [
    "## The IPython Notebook"
   ]
  },
  {
   "cell_type": "markdown",
   "metadata": {},
   "source": [
    "This is an **IPython Notebook**. You can learn more about these notebooks on the Jupyter project website, http://jupyter.org/. IPython notebooks provide a very conveneint interface to python. It allows you to include fully functional python code inside of a document that contains \"markdown\" (i.e. text like this) and figures that show analysis results. Note how the menu above allows use to specify whether each cell is a \"code\" cell (i.e. contains Python code) or a markdown cell. This type of hybrid document provides a very powerful method of interactive data anlysis. I strongly suggest using IPython Notebooks for most of your data anlysis tasks. Only when you start writing production code does it make sense to move away from the Notebook format. "
   ]
  },
  {
   "cell_type": "markdown",
   "metadata": {},
   "source": [
    "All of my IPython notebooks begin with the following series mysterious incantations. I will go through each of these lines later in the tutorial. In the mean time, it's best to just take the content of this cell on faith. Execute this code by clicking on it an pressing Shift+Enter. "
   ]
  },
  {
   "cell_type": "code",
   "execution_count": null,
   "metadata": {
    "collapsed": true
   },
   "outputs": [],
   "source": [
    "# Always put this first\n",
    "%matplotlib inline\n",
    "from __future__ import division\n",
    "import numpy as np\n",
    "import pandas as pd\n",
    "import matplotlib.pyplot as plt"
   ]
  },
  {
   "cell_type": "markdown",
   "metadata": {},
   "source": [
    "The \"Hello World!\" program, used in many language tutorials to illusrate the simplest program, is indeed very simple. Here it is. Again, execute it by typing Shift+Enter"
   ]
  },
  {
   "cell_type": "code",
   "execution_count": null,
   "metadata": {
    "collapsed": false
   },
   "outputs": [],
   "source": [
    "print \"Hello World!\" # The Hello World program!"
   ]
  },
  {
   "cell_type": "markdown",
   "metadata": {},
   "source": [
    "All this program does is display the text \"Hello World!\". This is done using the print function. The text \"Hello World!\" is the function argument. The text itself is what is called a \"string\". Print is the single most useful function in python, allowing one to inspect the contents of many variables.\n",
    "\n",
    "The hash mark # signifies the beginning of a comment. All text following # on a line is ignored by the interpreter. \n",
    "\n",
    "You can also run Python scripts, along with command line commands, from within the interpreter"
   ]
  },
  {
   "cell_type": "code",
   "execution_count": null,
   "metadata": {
    "collapsed": false
   },
   "outputs": [],
   "source": [
    "# Run the program stored in the file hello_world.py\n",
    "%run hello_world.py"
   ]
  },
  {
   "cell_type": "code",
   "execution_count": null,
   "metadata": {
    "collapsed": false
   },
   "outputs": [],
   "source": [
    "# Display the contents of the file hello_world.py (UNIX only)\n",
    "%cat hello_world.py"
   ]
  },
  {
   "cell_type": "code",
   "execution_count": null,
   "metadata": {
    "collapsed": false
   },
   "outputs": [],
   "source": [
    "# List the files in the current directory (UNIX only)\n",
    "%ls -lah"
   ]
  },
  {
   "cell_type": "code",
   "execution_count": null,
   "metadata": {
    "collapsed": false
   },
   "outputs": [],
   "source": [
    "# You can plot stuff in ipython notbook. Dont'w worry about the commands for now. \n",
    "x = np.arange(-10,10,0.01)\n",
    "y = np.sin(x)\n",
    "plt.plot(x,y)"
   ]
  },
  {
   "cell_type": "code",
   "execution_count": null,
   "metadata": {
    "collapsed": false
   },
   "outputs": [],
   "source": [
    "# You can load pictures! Don't worry about the commands for now. \n",
    "from IPython.display import Image\n",
    "Image(filename='cshl.jpg') "
   ]
  },
  {
   "cell_type": "markdown",
   "metadata": {},
   "source": [
    "## Variables"
   ]
  },
  {
   "cell_type": "markdown",
   "metadata": {},
   "source": [
    "Variables are contains that hold different numerical values, text values, etc. The = sign is used to set the value of a variable. Unlike Java or C, variables do not have to be defined before a value is assigned to them. "
   ]
  },
  {
   "cell_type": "code",
   "execution_count": null,
   "metadata": {
    "collapsed": false
   },
   "outputs": [],
   "source": [
    "# Asign values to variables\n",
    "an_int = 5           # An integer\n",
    "a_float = 4.5        # A floating point number\n",
    "a_bool = True        # A boolean variable\n",
    "a_string = \"Justin\"  # A string\n",
    "b_string = 'Justin'  # A different way to write a string\n",
    "a_multiline = \"\"\"   \n",
    "I am a paragraph.       \n",
    "I have multiple lines.\n",
    "\"\"\" # A multiline string\n",
    "\n",
    "# Now print all this stuff\n",
    "print an_int\n",
    "print a_float\n",
    "print a_bool\n",
    "print a_string\n",
    "print b_string\n",
    "print a_multiline"
   ]
  },
  {
   "cell_type": "markdown",
   "metadata": {},
   "source": [
    "## Numbers"
   ]
  },
  {
   "cell_type": "markdown",
   "metadata": {},
   "source": [
    "Mathematical operators are performed using familiar symbols (and perhaps few nonfamiliar ones):"
   ]
  },
  {
   "cell_type": "code",
   "execution_count": null,
   "metadata": {
    "collapsed": false
   },
   "outputs": [],
   "source": [
    "x = 5\n",
    "y = 2\n",
    "\n",
    "print x+y     # Addition\n",
    "print x-y     # Subtraction\n",
    "print x*y     # Multiplication\n",
    "print x/y     # Division\n",
    "print x**y    # Power\n",
    "print x%y     # Modulus\n",
    "print x//y    # Floor division"
   ]
  },
  {
   "cell_type": "markdown",
   "metadata": {},
   "source": [
    "To change the value of a variable, the following notation is useful"
   ]
  },
  {
   "cell_type": "code",
   "execution_count": null,
   "metadata": {
    "collapsed": false
   },
   "outputs": [],
   "source": [
    "x = 5\n",
    "print x\n",
    "\n",
    "x += 2  # Add 2 to x\n",
    "print x\n",
    "\n",
    "x *= 2  # Multiply x by 2\n",
    "print x\n",
    "\n",
    "x /= 2  # Divide x by 2\n",
    "print x\n",
    "\n",
    "x -= 2  # Subtract 2 from x\n",
    "print x\n",
    "\n",
    "x %= 2  # Take x mod 2\n",
    "print x"
   ]
  },
  {
   "cell_type": "markdown",
   "metadata": {},
   "source": [
    "Order of operations matter in mathematical expressions. When in doubt, use paranetheses."
   ]
  },
  {
   "cell_type": "code",
   "execution_count": null,
   "metadata": {
    "collapsed": false
   },
   "outputs": [],
   "source": [
    "print 3+4*5\n",
    "print 3+(4*5)\n",
    "print (3+4)*5 "
   ]
  },
  {
   "cell_type": "markdown",
   "metadata": {},
   "source": [
    "Every variable has a \"type\". You can determine this type within code"
   ]
  },
  {
   "cell_type": "code",
   "execution_count": null,
   "metadata": {
    "collapsed": false
   },
   "outputs": [],
   "source": [
    "x = 5\n",
    "y = 2\n",
    "\n",
    "print type(x) \n",
    "print type(y) \n",
    "print type(x*y) \n",
    "print type(x/y)\n",
    "\n",
    "# Use isinstance to test what type a variable is\n",
    "print isinstance(x,int)"
   ]
  },
  {
   "cell_type": "markdown",
   "metadata": {},
   "source": [
    "Notice that Python is smart enough to realize that, even though, x and y are integers, x/y should be a floating point number (that is, a number with a decimal point). Python 3.5 knows to do this automatically, but Python 2.7 (which we are using) does not. The incantation \n",
    "```\n",
    "from __future__ import division\n",
    "```\n",
    "that we put at the top of this notebook makes Python 2.7 act like 3.5 in this regard."
   ]
  },
  {
   "cell_type": "markdown",
   "metadata": {},
   "source": [
    "## Boolean numbers"
   ]
  },
  {
   "cell_type": "markdown",
   "metadata": {},
   "source": [
    "Booleans are numbers that can take on only two values: True and False. There operators are as follows:"
   ]
  },
  {
   "cell_type": "code",
   "execution_count": null,
   "metadata": {
    "collapsed": false
   },
   "outputs": [],
   "source": [
    "# Remember to capitalize True and False\n",
    "a = True\n",
    "b = False\n",
    "\n",
    "print a and b    # And\n",
    "print a or b     # Or\n",
    "print not a      # Not"
   ]
  },
  {
   "cell_type": "markdown",
   "metadata": {},
   "source": [
    "Booleans are typically used to store the results of different tests. "
   ]
  },
  {
   "cell_type": "code",
   "execution_count": null,
   "metadata": {
    "collapsed": false
   },
   "outputs": [],
   "source": [
    "x = 5\n",
    "y = 2\n",
    "a = True\n",
    "b = False\n",
    "\n",
    "print x > y \n",
    "print x >= y \n",
    "print x == y \n",
    "print x != y \n",
    "print (x != y) and a \n",
    "print (x < y) or (x != y)"
   ]
  },
  {
   "cell_type": "markdown",
   "metadata": {},
   "source": [
    "End Day 1\n",
    "================"
   ]
  },
  {
   "cell_type": "markdown",
   "metadata": {},
   "source": [
    "## Strings"
   ]
  },
  {
   "cell_type": "markdown",
   "metadata": {},
   "source": [
    "Python makes working with strings very easy, especially when compared to C, C++, or Matlab. "
   ]
  },
  {
   "cell_type": "code",
   "execution_count": null,
   "metadata": {
    "collapsed": false
   },
   "outputs": [],
   "source": [
    "a = \"foo\"\n",
    "b = \"bar\"\n",
    "c = \"foo bar baz\"\n",
    "d = [a,b,c]\n",
    "\n",
    "print a + b + c    # Concatenate\n",
    "print a*5          # This is actually useful somtimes\n",
    "print a == b       # Test identity\n",
    "print b in c       # Test if c contains b\n",
    "print '-'.join(d)  # Joint strings together with a specified character\n",
    "print c.split()    # Split strings based on white space"
   ]
  },
  {
   "cell_type": "markdown",
   "metadata": {},
   "source": [
    "Indexing allows one to extract different characters from the string"
   ]
  },
  {
   "cell_type": "code",
   "execution_count": null,
   "metadata": {
    "collapsed": false
   },
   "outputs": [],
   "source": [
    "s = 'Justin'\n",
    "\n",
    "print s        # Show the entire string\n",
    "print s[0]     # First character, corresonds to index 0\n",
    "print s[-1]    # Last character\n",
    "print s[:2]    # The first two characters\n",
    "print s[-2:]   # The last two characters\n",
    "print s[::2]   # Skip every other charcter\n",
    "print s[::-1]  # Reverse the string"
   ]
  },
  {
   "cell_type": "markdown",
   "metadata": {},
   "source": [
    "## Lists"
   ]
  },
  {
   "cell_type": "markdown",
   "metadata": {},
   "source": [
    "In this previous example we used \"lists\" (e.g. the variable d). Lists are arrays of python variables (or other objects), kept in a well-defined order. The elements in a list can be of all different types. The elements of a list are accessed by brackets"
   ]
  },
  {
   "cell_type": "code",
   "execution_count": null,
   "metadata": {
    "collapsed": false
   },
   "outputs": [],
   "source": [
    "v = [1, 'hi', [True,False], 57.3]\n",
    "\n",
    "print v        # Show the entire list\n",
    "print v[0]     # First element, corresonds to index 0\n",
    "print v[-1]    # Last element, same as v[3]\n",
    "print v[:2]    # The first two elements\n",
    "print v[-2:]   # The last two elements\n",
    "print v[::2]   # Skip every other element\n",
    "print v[::-1]  # Reverse the list\n",
    "print 'hi' in v   # Test whether list contains an element\n",
    "\n",
    "# Change an element of v\n",
    "v[0] = 42\n",
    "print v\n",
    "\n",
    "# Add an element to the end of v\n",
    "v.append('x')\n",
    "print v\n",
    "\n",
    "# Insert an element in v\n",
    "v.insert(2,'y')\n",
    "print v\n",
    "\n",
    "# Append a second list to v\n",
    "v.extend([0,1,2])\n",
    "print v\n",
    "\n",
    "# Delete an element of v\n",
    "del v[1]\n",
    "print v"
   ]
  },
  {
   "cell_type": "markdown",
   "metadata": {},
   "source": [
    "## Dictionaries"
   ]
  },
  {
   "cell_type": "markdown",
   "metadata": {},
   "source": [
    "Dictionaries are one of Python's most useful datatypes. They can be thought of as a list of key-value pairs, which can easily be looked up via the key (which can be anything)"
   ]
  },
  {
   "cell_type": "code",
   "execution_count": null,
   "metadata": {
    "collapsed": false
   },
   "outputs": [],
   "source": [
    "# Define a dictionary\n",
    "d = {'A':'Justin', 5:'Python','B':5}\n",
    "print d\n",
    "\n",
    "# Access elements\n",
    "print d['A']\n",
    "print d[5]\n",
    "\n",
    "# Add an element to the dictionary\n",
    "d['foo'] = 'bar'\n",
    "print d\n",
    "\n",
    "# Remove an element from the dictionary\n",
    "del d['B']\n",
    "print d\n",
    "\n",
    "# Get list of dictionary keys\n",
    "print d.keys()\n",
    "\n",
    "# Get list of dictionary values\n",
    "print d.values()"
   ]
  },
  {
   "cell_type": "markdown",
   "metadata": {},
   "source": [
    "## If, elif, else blocks"
   ]
  },
  {
   "cell_type": "markdown",
   "metadata": {},
   "source": [
    "If blocks allow blocks of code to be executed only under specific conditions."
   ]
  },
  {
   "cell_type": "code",
   "execution_count": null,
   "metadata": {
    "collapsed": false
   },
   "outputs": [],
   "source": [
    "x = 5\n",
    "y = 6\n",
    "\n",
    "if x==y:\n",
    "    print 'In block 1'\n",
    "    print 'They are equal!'\n",
    "elif x>y:\n",
    "    print 'In block 2'\n",
    "    print 'x is more than y'\n",
    "else:\n",
    "    print 'In block 2'\n",
    "    print 'y is more than x'"
   ]
  },
  {
   "cell_type": "markdown",
   "metadata": {},
   "source": [
    "Note the indentation within each code block. It is essential that all code within the same block have the same indentation level. For instance, the following code won't even run."
   ]
  },
  {
   "cell_type": "code",
   "execution_count": null,
   "metadata": {
    "collapsed": false
   },
   "outputs": [],
   "source": [
    "if x==y:\n",
    "    print 'In block 1'\n",
    "    print 'They are equal!'\n",
    "elif x>y:\n",
    "    print 'In block 2'\n",
    "     print 'x is more than y'  # Notice the extra space here\n",
    "else:\n",
    "    print 'In block 2'\n",
    "    print 'y is more than x'"
   ]
  },
  {
   "cell_type": "markdown",
   "metadata": {},
   "source": [
    "PEP 8 sytle specifies that code blocks should be indented not with tabs but with **4 spaces**. This makes code maintenence a lot easier. I strongly recommend you adhere to this convention."
   ]
  },
  {
   "cell_type": "markdown",
   "metadata": {},
   "source": [
    "## Loops"
   ]
  },
  {
   "cell_type": "markdown",
   "metadata": {},
   "source": [
    "In some fundamental sense, \"loops\" are what make a program a program. As in most programming languages there are two primary kinds of loops: \"for\" loops and \"while\" loops. "
   ]
  },
  {
   "cell_type": "code",
   "execution_count": null,
   "metadata": {
    "collapsed": false
   },
   "outputs": [],
   "source": [
    "# Print characters in a string one-by-one\n",
    "s = 'Hi there URPs!'\n",
    "for c in s:\n",
    "    print c"
   ]
  },
  {
   "cell_type": "code",
   "execution_count": null,
   "metadata": {
    "collapsed": false
   },
   "outputs": [],
   "source": [
    "# Print all nubmers from 0 to 9\n",
    "print range(10)\n",
    "\n",
    "for x in range(10):\n",
    "    print x"
   ]
  },
  {
   "cell_type": "code",
   "execution_count": null,
   "metadata": {
    "collapsed": false
   },
   "outputs": [],
   "source": [
    "x = 1\n",
    "while x < 3:\n",
    "    x *= 1.1\n",
    "    print x"
   ]
  },
  {
   "cell_type": "markdown",
   "metadata": {},
   "source": [
    "When using while loops, make very sure that your loop will actually end at some point. If your loop continues without end, go to \"Kernel -> Interrupt\" in the menu above. If your computer still acts strange, select \"Kernel -> Restart\". You will then have to evaluate your ipython notebook from the beginning. "
   ]
  },
  {
   "cell_type": "markdown",
   "metadata": {},
   "source": [
    "## Functions"
   ]
  },
  {
   "cell_type": "markdown",
   "metadata": {},
   "source": [
    "Finally, we illustrate how to define a function. Instead of defining a single line function (which is readily done), the following example illustrates various good practices"
   ]
  },
  {
   "cell_type": "code",
   "execution_count": null,
   "metadata": {
    "collapsed": false
   },
   "outputs": [],
   "source": [
    "def factorial(n):\n",
    "    \"\"\"Returns n factorial. n must be a nonnegative integer.\"\"\" # This is a \"doc string\"\n",
    "    \n",
    "    # Thow an error if n does not have the right form\n",
    "    assert isinstance(n,int),'Input is not an integer' \n",
    "    assert n >= 0,'Input is not nonnegative' \n",
    "    assert n <= 1000,'Intput is too large!'\n",
    "    \n",
    "    # Initialize return variable\n",
    "    val = 1\n",
    "    \n",
    "    # Loop over i=1,2,...,n\n",
    "    for i in range(1,n+1):   \n",
    "        val *= i\n",
    "        \n",
    "    return val  # Returns val to the user"
   ]
  },
  {
   "cell_type": "markdown",
   "metadata": {},
   "source": [
    "We test this function by computing n! for n=1,2,...10"
   ]
  },
  {
   "cell_type": "code",
   "execution_count": null,
   "metadata": {
    "collapsed": false
   },
   "outputs": [],
   "source": [
    "for n in range(10):\n",
    "    print str(n) + '! is ' + str(factorial(n))"
   ]
  },
  {
   "cell_type": "markdown",
   "metadata": {},
   "source": [
    "Just as important as making sure functions corectly process valid input correctly is to make sure they FAIL when provided with invalid input. Before a function does anything, it should test the validity of its input"
   ]
  },
  {
   "cell_type": "code",
   "execution_count": null,
   "metadata": {
    "collapsed": false
   },
   "outputs": [],
   "source": [
    "# This should fail\n",
    "print factorial(1.1)"
   ]
  },
  {
   "cell_type": "code",
   "execution_count": null,
   "metadata": {
    "collapsed": false
   },
   "outputs": [],
   "source": [
    "# This should fail\n",
    "print factorial(-10)"
   ]
  },
  {
   "cell_type": "code",
   "execution_count": null,
   "metadata": {
    "collapsed": false
   },
   "outputs": [],
   "source": [
    "# This should fail\n",
    "print factorial(\"I'm not even a number!\")"
   ]
  },
  {
   "cell_type": "code",
   "execution_count": null,
   "metadata": {
    "collapsed": false
   },
   "outputs": [],
   "source": [
    "# Also worth testing boundary cases\n",
    "print factorial(1000)"
   ]
  },
  {
   "cell_type": "markdown",
   "metadata": {},
   "source": [
    "The docstring is accessible from within python, and is often very useful. Execute the following command and a window will pop up that describes what this function does."
   ]
  },
  {
   "cell_type": "code",
   "execution_count": null,
   "metadata": {
    "collapsed": false
   },
   "outputs": [],
   "source": [
    "factorial?"
   ]
  },
  {
   "cell_type": "code",
   "execution_count": null,
   "metadata": {
    "collapsed": true
   },
   "outputs": [],
   "source": []
  }
 ],
 "metadata": {
  "kernelspec": {
   "display_name": "Python 2",
   "language": "python",
   "name": "python2"
  },
  "language_info": {
   "codemirror_mode": {
    "name": "ipython",
    "version": 2
   },
   "file_extension": ".py",
   "mimetype": "text/x-python",
   "name": "python",
   "nbconvert_exporter": "python",
   "pygments_lexer": "ipython2",
   "version": "2.7.11"
  }
 },
 "nbformat": 4,
 "nbformat_minor": 0
}
